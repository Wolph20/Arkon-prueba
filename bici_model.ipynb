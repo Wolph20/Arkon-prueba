{
 "cells": [
  {
   "attachments": {},
   "cell_type": "markdown",
   "metadata": {},
   "source": [
    "# Librerías"
   ]
  },
  {
   "cell_type": "code",
   "execution_count": 1,
   "metadata": {},
   "outputs": [
    {
     "name": "stderr",
     "output_type": "stream",
     "text": [
      "/home/wolph/anaconda3/lib/python3.8/site-packages/pandas/core/computation/expressions.py:20: UserWarning: Pandas requires version '2.7.3' or newer of 'numexpr' (version '2.7.1' currently installed).\n",
      "  from pandas.core.computation.check import NUMEXPR_INSTALLED\n"
     ]
    }
   ],
   "source": [
    "import pandas as pd\n",
    "import numpy as np\n",
    "import matplotlib.pyplot as plt\n",
    "import seaborn as sb\n",
    "\n",
    "from sklearn import preprocessing, metrics\n",
    "from sklearn.model_selection import train_test_split\n",
    "from sklearn.ensemble import RandomForestClassifier\n",
    "from sklearn.model_selection import StratifiedKFold\n",
    "from sklearn.metrics import confusion_matrix\n",
    "from sklearn.model_selection import cross_validate"
   ]
  },
  {
   "attachments": {},
   "cell_type": "markdown",
   "metadata": {},
   "source": [
    "# Carga de los datos"
   ]
  },
  {
   "cell_type": "code",
   "execution_count": 2,
   "metadata": {},
   "outputs": [
    {
     "data": {
      "text/html": [
       "<div>\n",
       "<style scoped>\n",
       "    .dataframe tbody tr th:only-of-type {\n",
       "        vertical-align: middle;\n",
       "    }\n",
       "\n",
       "    .dataframe tbody tr th {\n",
       "        vertical-align: top;\n",
       "    }\n",
       "\n",
       "    .dataframe thead th {\n",
       "        text-align: right;\n",
       "    }\n",
       "</style>\n",
       "<table border=\"1\" class=\"dataframe\">\n",
       "  <thead>\n",
       "    <tr style=\"text-align: right;\">\n",
       "      <th></th>\n",
       "      <th>trip_id</th>\n",
       "      <th>duration</th>\n",
       "      <th>start_time</th>\n",
       "      <th>end_time</th>\n",
       "      <th>start_lat</th>\n",
       "      <th>start_lon</th>\n",
       "      <th>end_lat</th>\n",
       "      <th>end_lon</th>\n",
       "      <th>bike_id</th>\n",
       "      <th>plan_duration</th>\n",
       "      <th>trip_route_category</th>\n",
       "      <th>passholder_type</th>\n",
       "      <th>start_station</th>\n",
       "      <th>end_station</th>\n",
       "    </tr>\n",
       "  </thead>\n",
       "  <tbody>\n",
       "    <tr>\n",
       "      <th>0</th>\n",
       "      <td>101750280</td>\n",
       "      <td>35</td>\n",
       "      <td>2018-08-07 11:20:00</td>\n",
       "      <td>2018-08-07 11:55:00</td>\n",
       "      <td>33.748920</td>\n",
       "      <td>-118.275192</td>\n",
       "      <td>33.748920</td>\n",
       "      <td>-118.275192</td>\n",
       "      <td>06530</td>\n",
       "      <td>1.0</td>\n",
       "      <td>Round Trip</td>\n",
       "      <td>Walk-up</td>\n",
       "      <td>4127</td>\n",
       "      <td>4127</td>\n",
       "    </tr>\n",
       "    <tr>\n",
       "      <th>1</th>\n",
       "      <td>46560345</td>\n",
       "      <td>32</td>\n",
       "      <td>9/17/2017 17:51</td>\n",
       "      <td>9/17/2017 18:23</td>\n",
       "      <td>34.035679</td>\n",
       "      <td>-118.270813</td>\n",
       "      <td>34.047749</td>\n",
       "      <td>-118.243172</td>\n",
       "      <td>6683</td>\n",
       "      <td>0.0</td>\n",
       "      <td>One Way</td>\n",
       "      <td>Walk-up</td>\n",
       "      <td>3057</td>\n",
       "      <td>3062</td>\n",
       "    </tr>\n",
       "    <tr>\n",
       "      <th>2</th>\n",
       "      <td>120016336</td>\n",
       "      <td>6</td>\n",
       "      <td>2019-04-22 09:22:00</td>\n",
       "      <td>2019-04-22 09:28:00</td>\n",
       "      <td>34.046070</td>\n",
       "      <td>-118.233093</td>\n",
       "      <td>34.047749</td>\n",
       "      <td>-118.243172</td>\n",
       "      <td>06710</td>\n",
       "      <td>30.0</td>\n",
       "      <td>One Way</td>\n",
       "      <td>Monthly Pass</td>\n",
       "      <td>3022</td>\n",
       "      <td>3062</td>\n",
       "    </tr>\n",
       "    <tr>\n",
       "      <th>3</th>\n",
       "      <td>129547190</td>\n",
       "      <td>138</td>\n",
       "      <td>9/22/2019 11:27</td>\n",
       "      <td>9/22/2019 13:45</td>\n",
       "      <td>34.062580</td>\n",
       "      <td>-118.290092</td>\n",
       "      <td>34.059689</td>\n",
       "      <td>-118.294662</td>\n",
       "      <td>17068</td>\n",
       "      <td>1.0</td>\n",
       "      <td>One Way</td>\n",
       "      <td>One Day Pass</td>\n",
       "      <td>4304</td>\n",
       "      <td>4311</td>\n",
       "    </tr>\n",
       "    <tr>\n",
       "      <th>4</th>\n",
       "      <td>136619463</td>\n",
       "      <td>14</td>\n",
       "      <td>1/31/2020 17:11</td>\n",
       "      <td>1/31/2020 17:25</td>\n",
       "      <td>34.026291</td>\n",
       "      <td>-118.277687</td>\n",
       "      <td>34.021660</td>\n",
       "      <td>-118.278687</td>\n",
       "      <td>18841</td>\n",
       "      <td>30.0</td>\n",
       "      <td>One Way</td>\n",
       "      <td>Monthly Pass</td>\n",
       "      <td>4266</td>\n",
       "      <td>4443</td>\n",
       "    </tr>\n",
       "  </tbody>\n",
       "</table>\n",
       "</div>"
      ],
      "text/plain": [
       "     trip_id  duration           start_time             end_time  start_lat  \\\n",
       "0  101750280        35  2018-08-07 11:20:00  2018-08-07 11:55:00  33.748920   \n",
       "1   46560345        32      9/17/2017 17:51      9/17/2017 18:23  34.035679   \n",
       "2  120016336         6  2019-04-22 09:22:00  2019-04-22 09:28:00  34.046070   \n",
       "3  129547190       138      9/22/2019 11:27      9/22/2019 13:45  34.062580   \n",
       "4  136619463        14      1/31/2020 17:11      1/31/2020 17:25  34.026291   \n",
       "\n",
       "    start_lon    end_lat     end_lon bike_id  plan_duration  \\\n",
       "0 -118.275192  33.748920 -118.275192   06530            1.0   \n",
       "1 -118.270813  34.047749 -118.243172    6683            0.0   \n",
       "2 -118.233093  34.047749 -118.243172   06710           30.0   \n",
       "3 -118.290092  34.059689 -118.294662   17068            1.0   \n",
       "4 -118.277687  34.021660 -118.278687   18841           30.0   \n",
       "\n",
       "  trip_route_category passholder_type  start_station  end_station  \n",
       "0          Round Trip         Walk-up           4127         4127  \n",
       "1             One Way         Walk-up           3057         3062  \n",
       "2             One Way    Monthly Pass           3022         3062  \n",
       "3             One Way    One Day Pass           4304         4311  \n",
       "4             One Way    Monthly Pass           4266         4443  "
      ]
     },
     "execution_count": 2,
     "metadata": {},
     "output_type": "execute_result"
    }
   ],
   "source": [
    "df = pd.read_csv(\"train_set.csv\", dtype={\n",
    "    'bike_id':'category',\n",
    "    'trip_route_category':'category',\n",
    "    'passholder':'category'})\n",
    "df.head()"
   ]
  },
  {
   "attachments": {},
   "cell_type": "markdown",
   "metadata": {},
   "source": [
    "# Análisis exploratorio de los datos."
   ]
  },
  {
   "attachments": {},
   "cell_type": "markdown",
   "metadata": {},
   "source": [
    "Funciones que se utilizan en el notebook"
   ]
  },
  {
   "cell_type": "code",
   "execution_count": 12,
   "metadata": {},
   "outputs": [],
   "source": [
    "def add_timeformat(df):\n",
    "    df['start_time'] = pd.to_datetime(df['start_time'])\n",
    "    df['end_time'] = pd.to_datetime(df['end_time'])\n",
    "\n",
    "def make_boxplot(df):\n",
    "    \n",
    "    fig, axes = plt.subplots(2,4, figsize=(15,9))\n",
    "\n",
    "    axes[0][0].boxplot(x = df['duration'],)\n",
    "    axes[0][0].set_title(\"duration\")\n",
    "    axes[0][1].boxplot(x= df['start_lat'])\n",
    "    axes[0][1].set_title(\"start_lat\")\n",
    "    axes[0][2].boxplot(x= df['start_lon'])\n",
    "    axes[0][2].set_title(\"start_lon\")\n",
    "    axes[0][3].boxplot(x= df['end_lat'])\n",
    "    axes[0][3].set_title(\"end_lat\")\n",
    "    axes[1][0].boxplot(x= df['end_lon'])\n",
    "    axes[1][0].set_title(\"end_lon\")\n",
    "    axes[1][1].boxplot(x= df['plan_duration'])\n",
    "    axes[1][1].set_title(\"plan_duration\")\n",
    "    axes[1][2].boxplot(x= df['start_station'])\n",
    "    axes[1][2].set_title(\"start_station\")\n",
    "    axes[1][3].boxplot(x= df['end_station'])\n",
    "    axes[1][3].set_title(\"end_station\")\n",
    "\n",
    "def add_schedule(data):\n",
    "    data['schedule'] = 'morning'\n",
    "    for i in range(len(data)):\n",
    "        if data['start_time'][i].hour in [5,6,7,8,9,10,11,12]:\n",
    "            data['schedule'][i] = 'morning'\n",
    "        elif data['start_time'][i].hour in [13,14,15,16,17,18]:\n",
    "            data['schedule'][i] = 'afternoon'\n",
    "        elif data['start_time'][i].hour in [19,20,21]:\n",
    "            data['schedule'][i] = 'evening'\n",
    "        elif data['start_time'][i].hour in [22,23,0,1,2,3,4]:\n",
    "            data['schedule'][i] = 'night'\n",
    "\n",
    "def add_year(data):\n",
    "    data['year'] = 2016\n",
    "    for i in range(len(data)):\n",
    "        data['year'][i] = data['start_time'][i].year\n",
    "        "
   ]
  },
  {
   "attachments": {},
   "cell_type": "markdown",
   "metadata": {},
   "source": [
    "Asignar el formato de fecha a las columnas start_time y end_time."
   ]
  },
  {
   "cell_type": "code",
   "execution_count": 4,
   "metadata": {},
   "outputs": [
    {
     "name": "stdout",
     "output_type": "stream",
     "text": [
      "<class 'pandas.core.frame.DataFrame'>\n",
      "RangeIndex: 700000 entries, 0 to 699999\n",
      "Data columns (total 14 columns):\n",
      " #   Column               Non-Null Count   Dtype         \n",
      "---  ------               --------------   -----         \n",
      " 0   trip_id              700000 non-null  int64         \n",
      " 1   duration             700000 non-null  int64         \n",
      " 2   start_time           700000 non-null  datetime64[ns]\n",
      " 3   end_time             700000 non-null  datetime64[ns]\n",
      " 4   start_lat            694437 non-null  float64       \n",
      " 5   start_lon            694437 non-null  float64       \n",
      " 6   end_lat              681426 non-null  float64       \n",
      " 7   end_lon              681426 non-null  float64       \n",
      " 8   bike_id              700000 non-null  category      \n",
      " 9   plan_duration        699792 non-null  float64       \n",
      " 10  trip_route_category  700000 non-null  category      \n",
      " 11  passholder_type      697424 non-null  object        \n",
      " 12  start_station        700000 non-null  int64         \n",
      " 13  end_station          700000 non-null  int64         \n",
      "dtypes: category(2), datetime64[ns](2), float64(5), int64(4), object(1)\n",
      "memory usage: 66.2+ MB\n"
     ]
    }
   ],
   "source": [
    "add_timeformat(df)\n",
    "df.info()"
   ]
  },
  {
   "attachments": {},
   "cell_type": "markdown",
   "metadata": {},
   "source": [
    "Explorar el conjunto de datos para ver si no existen valores nulos."
   ]
  },
  {
   "attachments": {},
   "cell_type": "markdown",
   "metadata": {},
   "source": [
    "Checking for null values"
   ]
  },
  {
   "cell_type": "code",
   "execution_count": 5,
   "metadata": {},
   "outputs": [
    {
     "name": "stdout",
     "output_type": "stream",
     "text": [
      "Missing Value Summary\n",
      "-----------------------------------\n",
      "trip_id                    0\n",
      "duration                   0\n",
      "start_time                 0\n",
      "end_time                   0\n",
      "start_lat               5563\n",
      "start_lon               5563\n",
      "end_lat                18574\n",
      "end_lon                18574\n",
      "bike_id                    0\n",
      "plan_duration            208\n",
      "trip_route_category        0\n",
      "passholder_type         2576\n",
      "start_station              0\n",
      "end_station                0\n",
      "dtype: int64\n"
     ]
    }
   ],
   "source": [
    "## missing values summary\n",
    "print(\"Missing Value Summary\\n{}\".format(\"-\"*35))\n",
    "null_values = df.isnull().sum(axis = 0)\n",
    "print(null_values)"
   ]
  },
  {
   "cell_type": "code",
   "execution_count": 6,
   "metadata": {},
   "outputs": [
    {
     "data": {
      "text/plain": [
       "Text(0.5, 1.0, 'Columns that contains null values')"
      ]
     },
     "execution_count": 6,
     "metadata": {},
     "output_type": "execute_result"
    },
    {
     "data": {
      "image/png": "[encoded data removed]",
      "text/plain": [
       "<Figure size 1080x720 with 2 Axes>"
      ]
     },
     "metadata": {
      "needs_background": "light"
     },
     "output_type": "display_data"
    }
   ],
   "source": [
    "import missingno as msn\n",
    "\n",
    "msn.matrix(df,figsize=(15,10))\n",
    "plt.title(\"Columns that contains null values\", fontsize=25)"
   ]
  },
  {
   "cell_type": "code",
   "execution_count": 7,
   "metadata": {},
   "outputs": [
    {
     "data": {
      "text/plain": [
       "Text(0.5, 1.0, 'Valid values for each feature')"
      ]
     },
     "execution_count": 7,
     "metadata": {},
     "output_type": "execute_result"
    },
    {
     "data": {
      "image/png": "[encoded data removed]",
      "text/plain": [
       "<Figure size 1080x720 with 3 Axes>"
      ]
     },
     "metadata": {
      "needs_background": "light"
     },
     "output_type": "display_data"
    }
   ],
   "source": [
    "msn.bar(df, figsize=(15,10))\n",
    "plt.title(\"Valid values for each feature\",fontsize=25, pad=120)"
   ]
  },
  {
   "attachments": {},
   "cell_type": "markdown",
   "metadata": {},
   "source": [
    "Eliminar valores nulos dentro del conjunto de datos."
   ]
  },
  {
   "cell_type": "code",
   "execution_count": 8,
   "metadata": {},
   "outputs": [
    {
     "data": {
      "text/plain": [
       "trip_id                0\n",
       "duration               0\n",
       "start_time             0\n",
       "end_time               0\n",
       "start_lat              0\n",
       "start_lon              0\n",
       "end_lat                0\n",
       "end_lon                0\n",
       "bike_id                0\n",
       "plan_duration          0\n",
       "trip_route_category    0\n",
       "passholder_type        0\n",
       "start_station          0\n",
       "end_station            0\n",
       "dtype: int64"
      ]
     },
     "execution_count": 8,
     "metadata": {},
     "output_type": "execute_result"
    }
   ],
   "source": [
    "df.dropna(inplace=True)\n",
    "df.isnull().sum()\n",
    "\n",
    "# type(df)"
   ]
  },
  {
   "cell_type": "code",
   "execution_count": 13,
   "metadata": {},
   "outputs": [
    {
     "name": "stdout",
     "output_type": "stream",
     "text": [
      "<class 'pandas.core.frame.DataFrame'>\n",
      "Int64Index: 675626 entries, 0 to 699999\n",
      "Data columns (total 14 columns):\n",
      " #   Column               Non-Null Count   Dtype         \n",
      "---  ------               --------------   -----         \n",
      " 0   trip_id              675626 non-null  int64         \n",
      " 1   duration             675626 non-null  int64         \n",
      " 2   start_time           675626 non-null  datetime64[ns]\n",
      " 3   end_time             675626 non-null  datetime64[ns]\n",
      " 4   start_lat            675626 non-null  float64       \n",
      " 5   start_lon            675626 non-null  float64       \n",
      " 6   end_lat              675626 non-null  float64       \n",
      " 7   end_lon              675626 non-null  float64       \n",
      " 8   bike_id              675626 non-null  category      \n",
      " 9   plan_duration        675626 non-null  float64       \n",
      " 10  trip_route_category  675626 non-null  category      \n",
      " 11  passholder_type      675626 non-null  object        \n",
      " 12  start_station        675626 non-null  int64         \n",
      " 13  end_station          675626 non-null  int64         \n",
      "dtypes: category(2), datetime64[ns](2), float64(5), int64(4), object(1)\n",
      "memory usage: 69.1+ MB\n"
     ]
    }
   ],
   "source": [
    "df.info()"
   ]
  },
  {
   "cell_type": "code",
   "execution_count": 14,
   "metadata": {},
   "outputs": [
    {
     "data": {
      "text/html": [
       "<div>\n",
       "<style scoped>\n",
       "    .dataframe tbody tr th:only-of-type {\n",
       "        vertical-align: middle;\n",
       "    }\n",
       "\n",
       "    .dataframe tbody tr th {\n",
       "        vertical-align: top;\n",
       "    }\n",
       "\n",
       "    .dataframe thead th {\n",
       "        text-align: right;\n",
       "    }\n",
       "</style>\n",
       "<table border=\"1\" class=\"dataframe\">\n",
       "  <thead>\n",
       "    <tr style=\"text-align: right;\">\n",
       "      <th></th>\n",
       "      <th>trip_id</th>\n",
       "      <th>duration</th>\n",
       "      <th>start_lat</th>\n",
       "      <th>start_lon</th>\n",
       "      <th>end_lat</th>\n",
       "      <th>end_lon</th>\n",
       "      <th>plan_duration</th>\n",
       "      <th>start_station</th>\n",
       "      <th>end_station</th>\n",
       "    </tr>\n",
       "  </thead>\n",
       "  <tbody>\n",
       "    <tr>\n",
       "      <th>count</th>\n",
       "      <td>6.756260e+05</td>\n",
       "      <td>675626.000000</td>\n",
       "      <td>675626.000000</td>\n",
       "      <td>675626.000000</td>\n",
       "      <td>675626.000000</td>\n",
       "      <td>675626.000000</td>\n",
       "      <td>675626.000000</td>\n",
       "      <td>675626.000000</td>\n",
       "      <td>675626.000000</td>\n",
       "    </tr>\n",
       "    <tr>\n",
       "      <th>mean</th>\n",
       "      <td>1.063468e+08</td>\n",
       "      <td>31.093780</td>\n",
       "      <td>34.044957</td>\n",
       "      <td>-118.253718</td>\n",
       "      <td>34.043957</td>\n",
       "      <td>-118.260350</td>\n",
       "      <td>44.824709</td>\n",
       "      <td>3487.031890</td>\n",
       "      <td>3486.696184</td>\n",
       "    </tr>\n",
       "    <tr>\n",
       "      <th>std</th>\n",
       "      <td>4.513893e+07</td>\n",
       "      <td>92.754909</td>\n",
       "      <td>0.320028</td>\n",
       "      <td>2.295352</td>\n",
       "      <td>0.290402</td>\n",
       "      <td>2.061822</td>\n",
       "      <td>92.207201</td>\n",
       "      <td>611.564384</td>\n",
       "      <td>611.253304</td>\n",
       "    </tr>\n",
       "    <tr>\n",
       "      <th>min</th>\n",
       "      <td>8.369648e+06</td>\n",
       "      <td>1.000000</td>\n",
       "      <td>33.710979</td>\n",
       "      <td>-118.495422</td>\n",
       "      <td>33.710979</td>\n",
       "      <td>-118.495422</td>\n",
       "      <td>0.000000</td>\n",
       "      <td>3000.000000</td>\n",
       "      <td>3000.000000</td>\n",
       "    </tr>\n",
       "    <tr>\n",
       "      <th>25%</th>\n",
       "      <td>7.405582e+07</td>\n",
       "      <td>7.000000</td>\n",
       "      <td>34.038609</td>\n",
       "      <td>-118.280182</td>\n",
       "      <td>34.037460</td>\n",
       "      <td>-118.280510</td>\n",
       "      <td>1.000000</td>\n",
       "      <td>3030.000000</td>\n",
       "      <td>3031.000000</td>\n",
       "    </tr>\n",
       "    <tr>\n",
       "      <th>50%</th>\n",
       "      <td>1.167977e+08</td>\n",
       "      <td>13.000000</td>\n",
       "      <td>34.046612</td>\n",
       "      <td>-118.256668</td>\n",
       "      <td>34.046520</td>\n",
       "      <td>-118.256980</td>\n",
       "      <td>30.000000</td>\n",
       "      <td>3064.000000</td>\n",
       "      <td>3064.000000</td>\n",
       "    </tr>\n",
       "    <tr>\n",
       "      <th>75%</th>\n",
       "      <td>1.397153e+08</td>\n",
       "      <td>25.000000</td>\n",
       "      <td>34.051941</td>\n",
       "      <td>-118.246422</td>\n",
       "      <td>34.050911</td>\n",
       "      <td>-118.246422</td>\n",
       "      <td>30.000000</td>\n",
       "      <td>4211.000000</td>\n",
       "      <td>4212.000000</td>\n",
       "    </tr>\n",
       "    <tr>\n",
       "      <th>max</th>\n",
       "      <td>1.794576e+08</td>\n",
       "      <td>1440.000000</td>\n",
       "      <td>55.705528</td>\n",
       "      <td>118.238258</td>\n",
       "      <td>55.705528</td>\n",
       "      <td>37.606541</td>\n",
       "      <td>999.000000</td>\n",
       "      <td>4594.000000</td>\n",
       "      <td>4594.000000</td>\n",
       "    </tr>\n",
       "  </tbody>\n",
       "</table>\n",
       "</div>"
      ],
      "text/plain": [
       "            trip_id       duration      start_lat      start_lon  \\\n",
       "count  6.756260e+05  675626.000000  675626.000000  675626.000000   \n",
       "mean   1.063468e+08      31.093780      34.044957    -118.253718   \n",
       "std    4.513893e+07      92.754909       0.320028       2.295352   \n",
       "min    8.369648e+06       1.000000      33.710979    -118.495422   \n",
       "25%    7.405582e+07       7.000000      34.038609    -118.280182   \n",
       "50%    1.167977e+08      13.000000      34.046612    -118.256668   \n",
       "75%    1.397153e+08      25.000000      34.051941    -118.246422   \n",
       "max    1.794576e+08    1440.000000      55.705528     118.238258   \n",
       "\n",
       "             end_lat        end_lon  plan_duration  start_station  \\\n",
       "count  675626.000000  675626.000000  675626.000000  675626.000000   \n",
       "mean       34.043957    -118.260350      44.824709    3487.031890   \n",
       "std         0.290402       2.061822      92.207201     611.564384   \n",
       "min        33.710979    -118.495422       0.000000    3000.000000   \n",
       "25%        34.037460    -118.280510       1.000000    3030.000000   \n",
       "50%        34.046520    -118.256980      30.000000    3064.000000   \n",
       "75%        34.050911    -118.246422      30.000000    4211.000000   \n",
       "max        55.705528      37.606541     999.000000    4594.000000   \n",
       "\n",
       "         end_station  \n",
       "count  675626.000000  \n",
       "mean     3486.696184  \n",
       "std       611.253304  \n",
       "min      3000.000000  \n",
       "25%      3031.000000  \n",
       "50%      3064.000000  \n",
       "75%      4212.000000  \n",
       "max      4594.000000  "
      ]
     },
     "execution_count": 14,
     "metadata": {},
     "output_type": "execute_result"
    }
   ],
   "source": [
    "df.describe()"
   ]
  },
  {
   "cell_type": "code",
   "execution_count": null,
   "metadata": {},
   "outputs": [],
   "source": [
    "\n"
   ]
  },
  {
   "cell_type": "code",
   "execution_count": 15,
   "metadata": {},
   "outputs": [
    {
     "data": {
      "image/png": "[encoded data removed]",
      "text/plain": [
       "<Figure size 1080x648 with 8 Axes>"
      ]
     },
     "metadata": {
      "needs_background": "light"
     },
     "output_type": "display_data"
    }
   ],
   "source": [
    "make_boxplot(df)"
   ]
  },
  {
   "attachments": {},
   "cell_type": "markdown",
   "metadata": {},
   "source": [
    "## Removal of outliers"
   ]
  },
  {
   "cell_type": "code",
   "execution_count": 16,
   "metadata": {},
   "outputs": [
    {
     "data": {
      "text/html": [
       "<div>\n",
       "<style scoped>\n",
       "    .dataframe tbody tr th:only-of-type {\n",
       "        vertical-align: middle;\n",
       "    }\n",
       "\n",
       "    .dataframe tbody tr th {\n",
       "        vertical-align: top;\n",
       "    }\n",
       "\n",
       "    .dataframe thead th {\n",
       "        text-align: right;\n",
       "    }\n",
       "</style>\n",
       "<table border=\"1\" class=\"dataframe\">\n",
       "  <thead>\n",
       "    <tr style=\"text-align: right;\">\n",
       "      <th></th>\n",
       "      <th>trip_id</th>\n",
       "      <th>duration</th>\n",
       "      <th>start_time</th>\n",
       "      <th>end_time</th>\n",
       "      <th>start_lat</th>\n",
       "      <th>start_lon</th>\n",
       "      <th>end_lat</th>\n",
       "      <th>end_lon</th>\n",
       "      <th>bike_id</th>\n",
       "      <th>plan_duration</th>\n",
       "      <th>trip_route_category</th>\n",
       "      <th>passholder_type</th>\n",
       "      <th>start_station</th>\n",
       "      <th>end_station</th>\n",
       "    </tr>\n",
       "  </thead>\n",
       "  <tbody>\n",
       "    <tr>\n",
       "      <th>0</th>\n",
       "      <td>101750280</td>\n",
       "      <td>35</td>\n",
       "      <td>2018-08-07 11:20:00</td>\n",
       "      <td>2018-08-07 11:55:00</td>\n",
       "      <td>33.748920</td>\n",
       "      <td>-118.275192</td>\n",
       "      <td>33.748920</td>\n",
       "      <td>-118.275192</td>\n",
       "      <td>06530</td>\n",
       "      <td>1.0</td>\n",
       "      <td>Round Trip</td>\n",
       "      <td>Walk-up</td>\n",
       "      <td>4127</td>\n",
       "      <td>4127</td>\n",
       "    </tr>\n",
       "    <tr>\n",
       "      <th>1</th>\n",
       "      <td>46560345</td>\n",
       "      <td>32</td>\n",
       "      <td>2017-09-17 17:51:00</td>\n",
       "      <td>2017-09-17 18:23:00</td>\n",
       "      <td>34.035679</td>\n",
       "      <td>-118.270813</td>\n",
       "      <td>34.047749</td>\n",
       "      <td>-118.243172</td>\n",
       "      <td>6683</td>\n",
       "      <td>0.0</td>\n",
       "      <td>One Way</td>\n",
       "      <td>Walk-up</td>\n",
       "      <td>3057</td>\n",
       "      <td>3062</td>\n",
       "    </tr>\n",
       "    <tr>\n",
       "      <th>2</th>\n",
       "      <td>120016336</td>\n",
       "      <td>6</td>\n",
       "      <td>2019-04-22 09:22:00</td>\n",
       "      <td>2019-04-22 09:28:00</td>\n",
       "      <td>34.046070</td>\n",
       "      <td>-118.233093</td>\n",
       "      <td>34.047749</td>\n",
       "      <td>-118.243172</td>\n",
       "      <td>06710</td>\n",
       "      <td>30.0</td>\n",
       "      <td>One Way</td>\n",
       "      <td>Monthly Pass</td>\n",
       "      <td>3022</td>\n",
       "      <td>3062</td>\n",
       "    </tr>\n",
       "    <tr>\n",
       "      <th>3</th>\n",
       "      <td>129547190</td>\n",
       "      <td>138</td>\n",
       "      <td>2019-09-22 11:27:00</td>\n",
       "      <td>2019-09-22 13:45:00</td>\n",
       "      <td>34.062580</td>\n",
       "      <td>-118.290092</td>\n",
       "      <td>34.059689</td>\n",
       "      <td>-118.294662</td>\n",
       "      <td>17068</td>\n",
       "      <td>1.0</td>\n",
       "      <td>One Way</td>\n",
       "      <td>One Day Pass</td>\n",
       "      <td>4304</td>\n",
       "      <td>4311</td>\n",
       "    </tr>\n",
       "    <tr>\n",
       "      <th>4</th>\n",
       "      <td>136619463</td>\n",
       "      <td>14</td>\n",
       "      <td>2020-01-31 17:11:00</td>\n",
       "      <td>2020-01-31 17:25:00</td>\n",
       "      <td>34.026291</td>\n",
       "      <td>-118.277687</td>\n",
       "      <td>34.021660</td>\n",
       "      <td>-118.278687</td>\n",
       "      <td>18841</td>\n",
       "      <td>30.0</td>\n",
       "      <td>One Way</td>\n",
       "      <td>Monthly Pass</td>\n",
       "      <td>4266</td>\n",
       "      <td>4443</td>\n",
       "    </tr>\n",
       "    <tr>\n",
       "      <th>...</th>\n",
       "      <td>...</td>\n",
       "      <td>...</td>\n",
       "      <td>...</td>\n",
       "      <td>...</td>\n",
       "      <td>...</td>\n",
       "      <td>...</td>\n",
       "      <td>...</td>\n",
       "      <td>...</td>\n",
       "      <td>...</td>\n",
       "      <td>...</td>\n",
       "      <td>...</td>\n",
       "      <td>...</td>\n",
       "      <td>...</td>\n",
       "      <td>...</td>\n",
       "    </tr>\n",
       "    <tr>\n",
       "      <th>675439</th>\n",
       "      <td>83666862</td>\n",
       "      <td>17</td>\n",
       "      <td>2018-04-25 18:32:00</td>\n",
       "      <td>2018-04-25 18:49:00</td>\n",
       "      <td>34.049889</td>\n",
       "      <td>-118.255882</td>\n",
       "      <td>34.074829</td>\n",
       "      <td>-118.258728</td>\n",
       "      <td>06505</td>\n",
       "      <td>30.0</td>\n",
       "      <td>One Way</td>\n",
       "      <td>Monthly Pass</td>\n",
       "      <td>3032</td>\n",
       "      <td>4220</td>\n",
       "    </tr>\n",
       "    <tr>\n",
       "      <th>675440</th>\n",
       "      <td>132547303</td>\n",
       "      <td>9</td>\n",
       "      <td>2019-11-12 16:49:10</td>\n",
       "      <td>2019-11-12 16:58:51</td>\n",
       "      <td>34.039188</td>\n",
       "      <td>-118.232529</td>\n",
       "      <td>34.056610</td>\n",
       "      <td>-118.237213</td>\n",
       "      <td>18348</td>\n",
       "      <td>30.0</td>\n",
       "      <td>One Way</td>\n",
       "      <td>Monthly Pass</td>\n",
       "      <td>3036</td>\n",
       "      <td>3014</td>\n",
       "    </tr>\n",
       "    <tr>\n",
       "      <th>675441</th>\n",
       "      <td>67332628</td>\n",
       "      <td>6</td>\n",
       "      <td>2018-01-13 15:49:00</td>\n",
       "      <td>2018-01-13 15:55:00</td>\n",
       "      <td>34.049889</td>\n",
       "      <td>-118.255882</td>\n",
       "      <td>34.050480</td>\n",
       "      <td>-118.254593</td>\n",
       "      <td>05718</td>\n",
       "      <td>365.0</td>\n",
       "      <td>One Way</td>\n",
       "      <td>Flex Pass</td>\n",
       "      <td>3032</td>\n",
       "      <td>3007</td>\n",
       "    </tr>\n",
       "    <tr>\n",
       "      <th>675442</th>\n",
       "      <td>114846232</td>\n",
       "      <td>3</td>\n",
       "      <td>2019-02-04 14:16:00</td>\n",
       "      <td>2019-02-04 14:19:00</td>\n",
       "      <td>34.045181</td>\n",
       "      <td>-118.250237</td>\n",
       "      <td>34.045540</td>\n",
       "      <td>-118.256668</td>\n",
       "      <td>12195</td>\n",
       "      <td>1.0</td>\n",
       "      <td>One Way</td>\n",
       "      <td>Walk-up</td>\n",
       "      <td>3067</td>\n",
       "      <td>3006</td>\n",
       "    </tr>\n",
       "    <tr>\n",
       "      <th>675443</th>\n",
       "      <td>167744702</td>\n",
       "      <td>59</td>\n",
       "      <td>2021-08-01 20:26:00</td>\n",
       "      <td>2021-08-01 21:25:00</td>\n",
       "      <td>33.984341</td>\n",
       "      <td>-118.471550</td>\n",
       "      <td>34.023392</td>\n",
       "      <td>-118.479637</td>\n",
       "      <td>16201</td>\n",
       "      <td>1.0</td>\n",
       "      <td>One Way</td>\n",
       "      <td>Walk-up</td>\n",
       "      <td>4210</td>\n",
       "      <td>4216</td>\n",
       "    </tr>\n",
       "  </tbody>\n",
       "</table>\n",
       "<p>675444 rows × 14 columns</p>\n",
       "</div>"
      ],
      "text/plain": [
       "          trip_id  duration          start_time            end_time  \\\n",
       "0       101750280        35 2018-08-07 11:20:00 2018-08-07 11:55:00   \n",
       "1        46560345        32 2017-09-17 17:51:00 2017-09-17 18:23:00   \n",
       "2       120016336         6 2019-04-22 09:22:00 2019-04-22 09:28:00   \n",
       "3       129547190       138 2019-09-22 11:27:00 2019-09-22 13:45:00   \n",
       "4       136619463        14 2020-01-31 17:11:00 2020-01-31 17:25:00   \n",
       "...           ...       ...                 ...                 ...   \n",
       "675439   83666862        17 2018-04-25 18:32:00 2018-04-25 18:49:00   \n",
       "675440  132547303         9 2019-11-12 16:49:10 2019-11-12 16:58:51   \n",
       "675441   67332628         6 2018-01-13 15:49:00 2018-01-13 15:55:00   \n",
       "675442  114846232         3 2019-02-04 14:16:00 2019-02-04 14:19:00   \n",
       "675443  167744702        59 2021-08-01 20:26:00 2021-08-01 21:25:00   \n",
       "\n",
       "        start_lat   start_lon    end_lat     end_lon bike_id  plan_duration  \\\n",
       "0       33.748920 -118.275192  33.748920 -118.275192   06530            1.0   \n",
       "1       34.035679 -118.270813  34.047749 -118.243172    6683            0.0   \n",
       "2       34.046070 -118.233093  34.047749 -118.243172   06710           30.0   \n",
       "3       34.062580 -118.290092  34.059689 -118.294662   17068            1.0   \n",
       "4       34.026291 -118.277687  34.021660 -118.278687   18841           30.0   \n",
       "...           ...         ...        ...         ...     ...            ...   \n",
       "675439  34.049889 -118.255882  34.074829 -118.258728   06505           30.0   \n",
       "675440  34.039188 -118.232529  34.056610 -118.237213   18348           30.0   \n",
       "675441  34.049889 -118.255882  34.050480 -118.254593   05718          365.0   \n",
       "675442  34.045181 -118.250237  34.045540 -118.256668   12195            1.0   \n",
       "675443  33.984341 -118.471550  34.023392 -118.479637   16201            1.0   \n",
       "\n",
       "       trip_route_category passholder_type  start_station  end_station  \n",
       "0               Round Trip         Walk-up           4127         4127  \n",
       "1                  One Way         Walk-up           3057         3062  \n",
       "2                  One Way    Monthly Pass           3022         3062  \n",
       "3                  One Way    One Day Pass           4304         4311  \n",
       "4                  One Way    Monthly Pass           4266         4443  \n",
       "...                    ...             ...            ...          ...  \n",
       "675439             One Way    Monthly Pass           3032         4220  \n",
       "675440             One Way    Monthly Pass           3036         3014  \n",
       "675441             One Way       Flex Pass           3032         3007  \n",
       "675442             One Way         Walk-up           3067         3006  \n",
       "675443             One Way         Walk-up           4210         4216  \n",
       "\n",
       "[675444 rows x 14 columns]"
      ]
     },
     "execution_count": 16,
     "metadata": {},
     "output_type": "execute_result"
    }
   ],
   "source": [
    "df = df[df.end_lon<-118]\n",
    "df = df[df.end_lat<35]\n",
    "df = df[df.start_lon<-118]\n",
    "df = df[df.start_lat<40].reset_index(drop=True)\n",
    "df"
   ]
  },
  {
   "cell_type": "code",
   "execution_count": 17,
   "metadata": {},
   "outputs": [
    {
     "data": {
      "image/png": "[encoded data removed]",
      "text/plain": [
       "<Figure size 1080x648 with 8 Axes>"
      ]
     },
     "metadata": {
      "needs_background": "light"
     },
     "output_type": "display_data"
    }
   ],
   "source": [
    "make_boxplot(df)"
   ]
  },
  {
   "attachments": {},
   "cell_type": "markdown",
   "metadata": {},
   "source": [
    "### Saturación del servicio"
   ]
  },
  {
   "attachments": {},
   "cell_type": "markdown",
   "metadata": {},
   "source": [
    "Se desea saber como se comporta la demanda para cada Plan."
   ]
  },
  {
   "attachments": {},
   "cell_type": "markdown",
   "metadata": {},
   "source": [
    "Para un mejor entendimiento sobre los horarios de uso, se procede a agregar una nueva columna que tiene los siguientes valores: morning, afternoon, evening, night."
   ]
  },
  {
   "cell_type": "code",
   "execution_count": 18,
   "metadata": {},
   "outputs": [
    {
     "name": "stderr",
     "output_type": "stream",
     "text": [
      "<ipython-input-12-166b627e646b>:30: SettingWithCopyWarning: \n",
      "A value is trying to be set on a copy of a slice from a DataFrame\n",
      "\n",
      "See the caveats in the documentation: https://pandas.pydata.org/pandas-docs/stable/user_guide/indexing.html#returning-a-view-versus-a-copy\n",
      "  data['schedule'][i] = 'morning'\n",
      "<ipython-input-12-166b627e646b>:32: SettingWithCopyWarning: \n",
      "A value is trying to be set on a copy of a slice from a DataFrame\n",
      "\n",
      "See the caveats in the documentation: https://pandas.pydata.org/pandas-docs/stable/user_guide/indexing.html#returning-a-view-versus-a-copy\n",
      "  data['schedule'][i] = 'afternoon'\n",
      "<ipython-input-12-166b627e646b>:36: SettingWithCopyWarning: \n",
      "A value is trying to be set on a copy of a slice from a DataFrame\n",
      "\n",
      "See the caveats in the documentation: https://pandas.pydata.org/pandas-docs/stable/user_guide/indexing.html#returning-a-view-versus-a-copy\n",
      "  data['schedule'][i] = 'night'\n",
      "<ipython-input-12-166b627e646b>:34: SettingWithCopyWarning: \n",
      "A value is trying to be set on a copy of a slice from a DataFrame\n",
      "\n",
      "See the caveats in the documentation: https://pandas.pydata.org/pandas-docs/stable/user_guide/indexing.html#returning-a-view-versus-a-copy\n",
      "  data['schedule'][i] = 'evening'\n"
     ]
    }
   ],
   "source": [
    "add_schedule(df)"
   ]
  },
  {
   "attachments": {},
   "cell_type": "markdown",
   "metadata": {},
   "source": [
    "Agregar otra columna con el año de cada uso."
   ]
  },
  {
   "cell_type": "code",
   "execution_count": 19,
   "metadata": {},
   "outputs": [
    {
     "name": "stderr",
     "output_type": "stream",
     "text": [
      "<ipython-input-12-166b627e646b>:41: SettingWithCopyWarning: \n",
      "A value is trying to be set on a copy of a slice from a DataFrame\n",
      "\n",
      "See the caveats in the documentation: https://pandas.pydata.org/pandas-docs/stable/user_guide/indexing.html#returning-a-view-versus-a-copy\n",
      "  data['year'][i] = data['start_time'][i].year\n"
     ]
    }
   ],
   "source": [
    "add_year(df)"
   ]
  },
  {
   "cell_type": "code",
   "execution_count": 20,
   "metadata": {},
   "outputs": [
    {
     "data": {
      "text/html": [
       "<div>\n",
       "<style scoped>\n",
       "    .dataframe tbody tr th:only-of-type {\n",
       "        vertical-align: middle;\n",
       "    }\n",
       "\n",
       "    .dataframe tbody tr th {\n",
       "        vertical-align: top;\n",
       "    }\n",
       "\n",
       "    .dataframe thead th {\n",
       "        text-align: right;\n",
       "    }\n",
       "</style>\n",
       "<table border=\"1\" class=\"dataframe\">\n",
       "  <thead>\n",
       "    <tr style=\"text-align: right;\">\n",
       "      <th></th>\n",
       "      <th>trip_id</th>\n",
       "      <th>duration</th>\n",
       "      <th>start_time</th>\n",
       "      <th>end_time</th>\n",
       "      <th>start_lat</th>\n",
       "      <th>start_lon</th>\n",
       "      <th>end_lat</th>\n",
       "      <th>end_lon</th>\n",
       "      <th>bike_id</th>\n",
       "      <th>plan_duration</th>\n",
       "      <th>trip_route_category</th>\n",
       "      <th>passholder_type</th>\n",
       "      <th>start_station</th>\n",
       "      <th>end_station</th>\n",
       "      <th>schedule</th>\n",
       "      <th>year</th>\n",
       "    </tr>\n",
       "  </thead>\n",
       "  <tbody>\n",
       "    <tr>\n",
       "      <th>0</th>\n",
       "      <td>101750280</td>\n",
       "      <td>35</td>\n",
       "      <td>2018-08-07 11:20:00</td>\n",
       "      <td>2018-08-07 11:55:00</td>\n",
       "      <td>33.748920</td>\n",
       "      <td>-118.275192</td>\n",
       "      <td>33.748920</td>\n",
       "      <td>-118.275192</td>\n",
       "      <td>06530</td>\n",
       "      <td>1.0</td>\n",
       "      <td>Round Trip</td>\n",
       "      <td>Walk-up</td>\n",
       "      <td>4127</td>\n",
       "      <td>4127</td>\n",
       "      <td>morning</td>\n",
       "      <td>2018</td>\n",
       "    </tr>\n",
       "    <tr>\n",
       "      <th>1</th>\n",
       "      <td>46560345</td>\n",
       "      <td>32</td>\n",
       "      <td>2017-09-17 17:51:00</td>\n",
       "      <td>2017-09-17 18:23:00</td>\n",
       "      <td>34.035679</td>\n",
       "      <td>-118.270813</td>\n",
       "      <td>34.047749</td>\n",
       "      <td>-118.243172</td>\n",
       "      <td>6683</td>\n",
       "      <td>0.0</td>\n",
       "      <td>One Way</td>\n",
       "      <td>Walk-up</td>\n",
       "      <td>3057</td>\n",
       "      <td>3062</td>\n",
       "      <td>afternoon</td>\n",
       "      <td>2017</td>\n",
       "    </tr>\n",
       "    <tr>\n",
       "      <th>2</th>\n",
       "      <td>120016336</td>\n",
       "      <td>6</td>\n",
       "      <td>2019-04-22 09:22:00</td>\n",
       "      <td>2019-04-22 09:28:00</td>\n",
       "      <td>34.046070</td>\n",
       "      <td>-118.233093</td>\n",
       "      <td>34.047749</td>\n",
       "      <td>-118.243172</td>\n",
       "      <td>06710</td>\n",
       "      <td>30.0</td>\n",
       "      <td>One Way</td>\n",
       "      <td>Monthly Pass</td>\n",
       "      <td>3022</td>\n",
       "      <td>3062</td>\n",
       "      <td>morning</td>\n",
       "      <td>2019</td>\n",
       "    </tr>\n",
       "    <tr>\n",
       "      <th>3</th>\n",
       "      <td>129547190</td>\n",
       "      <td>138</td>\n",
       "      <td>2019-09-22 11:27:00</td>\n",
       "      <td>2019-09-22 13:45:00</td>\n",
       "      <td>34.062580</td>\n",
       "      <td>-118.290092</td>\n",
       "      <td>34.059689</td>\n",
       "      <td>-118.294662</td>\n",
       "      <td>17068</td>\n",
       "      <td>1.0</td>\n",
       "      <td>One Way</td>\n",
       "      <td>One Day Pass</td>\n",
       "      <td>4304</td>\n",
       "      <td>4311</td>\n",
       "      <td>morning</td>\n",
       "      <td>2019</td>\n",
       "    </tr>\n",
       "    <tr>\n",
       "      <th>4</th>\n",
       "      <td>136619463</td>\n",
       "      <td>14</td>\n",
       "      <td>2020-01-31 17:11:00</td>\n",
       "      <td>2020-01-31 17:25:00</td>\n",
       "      <td>34.026291</td>\n",
       "      <td>-118.277687</td>\n",
       "      <td>34.021660</td>\n",
       "      <td>-118.278687</td>\n",
       "      <td>18841</td>\n",
       "      <td>30.0</td>\n",
       "      <td>One Way</td>\n",
       "      <td>Monthly Pass</td>\n",
       "      <td>4266</td>\n",
       "      <td>4443</td>\n",
       "      <td>afternoon</td>\n",
       "      <td>2020</td>\n",
       "    </tr>\n",
       "  </tbody>\n",
       "</table>\n",
       "</div>"
      ],
      "text/plain": [
       "     trip_id  duration          start_time            end_time  start_lat  \\\n",
       "0  101750280        35 2018-08-07 11:20:00 2018-08-07 11:55:00  33.748920   \n",
       "1   46560345        32 2017-09-17 17:51:00 2017-09-17 18:23:00  34.035679   \n",
       "2  120016336         6 2019-04-22 09:22:00 2019-04-22 09:28:00  34.046070   \n",
       "3  129547190       138 2019-09-22 11:27:00 2019-09-22 13:45:00  34.062580   \n",
       "4  136619463        14 2020-01-31 17:11:00 2020-01-31 17:25:00  34.026291   \n",
       "\n",
       "    start_lon    end_lat     end_lon bike_id  plan_duration  \\\n",
       "0 -118.275192  33.748920 -118.275192   06530            1.0   \n",
       "1 -118.270813  34.047749 -118.243172    6683            0.0   \n",
       "2 -118.233093  34.047749 -118.243172   06710           30.0   \n",
       "3 -118.290092  34.059689 -118.294662   17068            1.0   \n",
       "4 -118.277687  34.021660 -118.278687   18841           30.0   \n",
       "\n",
       "  trip_route_category passholder_type  start_station  end_station   schedule  \\\n",
       "0          Round Trip         Walk-up           4127         4127    morning   \n",
       "1             One Way         Walk-up           3057         3062  afternoon   \n",
       "2             One Way    Monthly Pass           3022         3062    morning   \n",
       "3             One Way    One Day Pass           4304         4311    morning   \n",
       "4             One Way    Monthly Pass           4266         4443  afternoon   \n",
       "\n",
       "   year  \n",
       "0  2018  \n",
       "1  2017  \n",
       "2  2019  \n",
       "3  2019  \n",
       "4  2020  "
      ]
     },
     "execution_count": 20,
     "metadata": {},
     "output_type": "execute_result"
    }
   ],
   "source": [
    "df.head()"
   ]
  },
  {
   "cell_type": "code",
   "execution_count": 21,
   "metadata": {},
   "outputs": [
    {
     "data": {
      "text/plain": [
       "Text(0.5, 1.0, 'Comportamiento de la demanda según cada plan')"
      ]
     },
     "execution_count": 21,
     "metadata": {},
     "output_type": "execute_result"
    },
    {
     "data": {
      "image/png": "[encoded data removed]",
      "text/plain": [
       "<Figure size 720x504 with 1 Axes>"
      ]
     },
     "metadata": {
      "needs_background": "light"
     },
     "output_type": "display_data"
    }
   ],
   "source": [
    "table1 = pd.pivot_table(df, index='passholder_type', columns='schedule', values=\"trip_id\", aggfunc=np.count_nonzero)\n",
    "table1.plot(kind='bar', figsize=(10,7))\n",
    "plt.title(\"Comportamiento de la demanda según cada plan\", fontsize=20, pad=30)"
   ]
  },
  {
   "cell_type": "code",
   "execution_count": 22,
   "metadata": {},
   "outputs": [
    {
     "data": {
      "text/plain": [
       "Text(0.5, 1.0, 'Uso de bicicletas con el tiempo')"
      ]
     },
     "execution_count": 22,
     "metadata": {},
     "output_type": "execute_result"
    },
    {
     "data": {
      "image/png": "[encoded data removed]",
      "text/plain": [
       "<Figure size 720x504 with 1 Axes>"
      ]
     },
     "metadata": {
      "needs_background": "light"
     },
     "output_type": "display_data"
    }
   ],
   "source": [
    "table1 = pd.pivot_table(df, index='year', columns='passholder_type', values=\"trip_id\", aggfunc=np.count_nonzero)\n",
    "table1.plot(kind='bar', figsize=(10,7))\n",
    "plt.title(\"Uso de bicicletas con el tiempo\", fontsize=20, pad=30)"
   ]
  },
  {
   "attachments": {},
   "cell_type": "markdown",
   "metadata": {},
   "source": [
    "# Predictive analysis"
   ]
  },
  {
   "attachments": {},
   "cell_type": "markdown",
   "metadata": {},
   "source": [
    "Aplicar one-hot-encoding"
   ]
  },
  {
   "cell_type": "code",
   "execution_count": 98,
   "metadata": {},
   "outputs": [],
   "source": [
    "data_preprocessed = df.copy()"
   ]
  },
  {
   "cell_type": "code",
   "execution_count": 99,
   "metadata": {},
   "outputs": [],
   "source": [
    "to_be_encoded = data_preprocessed.loc[:,['trip_route_category','passholder_type','bike_id','schedule']]\n",
    "\n",
    "lab_enc = preprocessing.LabelEncoder()\n",
    "encoding_tripRoute = lab_enc.fit_transform(to_be_encoded['trip_route_category'])\n",
    "data_preprocessed['trip_route_category'] = encoding_tripRoute\n",
    "encoding_passholder = lab_enc.fit_transform(to_be_encoded['passholder_type'])\n",
    "data_preprocessed['passholder_type'] = encoding_passholder\n"
   ]
  },
  {
   "cell_type": "code",
   "execution_count": 100,
   "metadata": {},
   "outputs": [],
   "source": [
    "lab_enc_bike = preprocessing.LabelEncoder()\n",
    "encoding_bike = lab_enc_bike.fit_transform(to_be_encoded['bike_id'])\n",
    "data_preprocessed['bike_id'] = encoding_bike\n",
    "encoding_schedule = lab_enc_bike.fit_transform(to_be_encoded['schedule'])\n",
    "data_preprocessed['schedule'] = encoding_schedule"
   ]
  },
  {
   "cell_type": "code",
   "execution_count": 101,
   "metadata": {},
   "outputs": [
    {
     "data": {
      "text/html": [
       "<div>\n",
       "<style scoped>\n",
       "    .dataframe tbody tr th:only-of-type {\n",
       "        vertical-align: middle;\n",
       "    }\n",
       "\n",
       "    .dataframe tbody tr th {\n",
       "        vertical-align: top;\n",
       "    }\n",
       "\n",
       "    .dataframe thead th {\n",
       "        text-align: right;\n",
       "    }\n",
       "</style>\n",
       "<table border=\"1\" class=\"dataframe\">\n",
       "  <thead>\n",
       "    <tr style=\"text-align: right;\">\n",
       "      <th></th>\n",
       "      <th>trip_id</th>\n",
       "      <th>duration</th>\n",
       "      <th>start_time</th>\n",
       "      <th>end_time</th>\n",
       "      <th>start_lat</th>\n",
       "      <th>start_lon</th>\n",
       "      <th>end_lat</th>\n",
       "      <th>end_lon</th>\n",
       "      <th>bike_id</th>\n",
       "      <th>plan_duration</th>\n",
       "      <th>trip_route_category</th>\n",
       "      <th>passholder_type</th>\n",
       "      <th>start_station</th>\n",
       "      <th>end_station</th>\n",
       "      <th>schedule</th>\n",
       "      <th>year</th>\n",
       "    </tr>\n",
       "  </thead>\n",
       "  <tbody>\n",
       "    <tr>\n",
       "      <th>0</th>\n",
       "      <td>101750280</td>\n",
       "      <td>35</td>\n",
       "      <td>2018-08-07 11:20:00</td>\n",
       "      <td>2018-08-07 11:55:00</td>\n",
       "      <td>33.748920</td>\n",
       "      <td>-118.275192</td>\n",
       "      <td>33.748920</td>\n",
       "      <td>-118.275192</td>\n",
       "      <td>814</td>\n",
       "      <td>1.0</td>\n",
       "      <td>1</td>\n",
       "      <td>5</td>\n",
       "      <td>4127</td>\n",
       "      <td>4127</td>\n",
       "      <td>2</td>\n",
       "      <td>2018</td>\n",
       "    </tr>\n",
       "    <tr>\n",
       "      <th>1</th>\n",
       "      <td>46560345</td>\n",
       "      <td>32</td>\n",
       "      <td>2017-09-17 17:51:00</td>\n",
       "      <td>2017-09-17 18:23:00</td>\n",
       "      <td>34.035679</td>\n",
       "      <td>-118.270813</td>\n",
       "      <td>34.047749</td>\n",
       "      <td>-118.243172</td>\n",
       "      <td>4306</td>\n",
       "      <td>0.0</td>\n",
       "      <td>0</td>\n",
       "      <td>5</td>\n",
       "      <td>3057</td>\n",
       "      <td>3062</td>\n",
       "      <td>0</td>\n",
       "      <td>2017</td>\n",
       "    </tr>\n",
       "    <tr>\n",
       "      <th>2</th>\n",
       "      <td>120016336</td>\n",
       "      <td>6</td>\n",
       "      <td>2019-04-22 09:22:00</td>\n",
       "      <td>2019-04-22 09:28:00</td>\n",
       "      <td>34.046070</td>\n",
       "      <td>-118.233093</td>\n",
       "      <td>34.047749</td>\n",
       "      <td>-118.243172</td>\n",
       "      <td>984</td>\n",
       "      <td>30.0</td>\n",
       "      <td>0</td>\n",
       "      <td>2</td>\n",
       "      <td>3022</td>\n",
       "      <td>3062</td>\n",
       "      <td>2</td>\n",
       "      <td>2019</td>\n",
       "    </tr>\n",
       "    <tr>\n",
       "      <th>3</th>\n",
       "      <td>129547190</td>\n",
       "      <td>138</td>\n",
       "      <td>2019-09-22 11:27:00</td>\n",
       "      <td>2019-09-22 13:45:00</td>\n",
       "      <td>34.062580</td>\n",
       "      <td>-118.290092</td>\n",
       "      <td>34.059689</td>\n",
       "      <td>-118.294662</td>\n",
       "      <td>2763</td>\n",
       "      <td>1.0</td>\n",
       "      <td>0</td>\n",
       "      <td>3</td>\n",
       "      <td>4304</td>\n",
       "      <td>4311</td>\n",
       "      <td>2</td>\n",
       "      <td>2019</td>\n",
       "    </tr>\n",
       "    <tr>\n",
       "      <th>4</th>\n",
       "      <td>136619463</td>\n",
       "      <td>14</td>\n",
       "      <td>2020-01-31 17:11:00</td>\n",
       "      <td>2020-01-31 17:25:00</td>\n",
       "      <td>34.026291</td>\n",
       "      <td>-118.277687</td>\n",
       "      <td>34.021660</td>\n",
       "      <td>-118.278687</td>\n",
       "      <td>2894</td>\n",
       "      <td>30.0</td>\n",
       "      <td>0</td>\n",
       "      <td>2</td>\n",
       "      <td>4266</td>\n",
       "      <td>4443</td>\n",
       "      <td>0</td>\n",
       "      <td>2020</td>\n",
       "    </tr>\n",
       "  </tbody>\n",
       "</table>\n",
       "</div>"
      ],
      "text/plain": [
       "     trip_id  duration          start_time            end_time  start_lat  \\\n",
       "0  101750280        35 2018-08-07 11:20:00 2018-08-07 11:55:00  33.748920   \n",
       "1   46560345        32 2017-09-17 17:51:00 2017-09-17 18:23:00  34.035679   \n",
       "2  120016336         6 2019-04-22 09:22:00 2019-04-22 09:28:00  34.046070   \n",
       "3  129547190       138 2019-09-22 11:27:00 2019-09-22 13:45:00  34.062580   \n",
       "4  136619463        14 2020-01-31 17:11:00 2020-01-31 17:25:00  34.026291   \n",
       "\n",
       "    start_lon    end_lat     end_lon  bike_id  plan_duration  \\\n",
       "0 -118.275192  33.748920 -118.275192      814            1.0   \n",
       "1 -118.270813  34.047749 -118.243172     4306            0.0   \n",
       "2 -118.233093  34.047749 -118.243172      984           30.0   \n",
       "3 -118.290092  34.059689 -118.294662     2763            1.0   \n",
       "4 -118.277687  34.021660 -118.278687     2894           30.0   \n",
       "\n",
       "   trip_route_category  passholder_type  start_station  end_station  schedule  \\\n",
       "0                    1                5           4127         4127         2   \n",
       "1                    0                5           3057         3062         0   \n",
       "2                    0                2           3022         3062         2   \n",
       "3                    0                3           4304         4311         2   \n",
       "4                    0                2           4266         4443         0   \n",
       "\n",
       "   year  \n",
       "0  2018  \n",
       "1  2017  \n",
       "2  2019  \n",
       "3  2019  \n",
       "4  2020  "
      ]
     },
     "execution_count": 101,
     "metadata": {},
     "output_type": "execute_result"
    }
   ],
   "source": [
    "data_preprocessed.head()"
   ]
  },
  {
   "cell_type": "code",
   "execution_count": 102,
   "metadata": {},
   "outputs": [
    {
     "data": {
      "text/plain": [
       "<AxesSubplot:>"
      ]
     },
     "execution_count": 102,
     "metadata": {},
     "output_type": "execute_result"
    },
    {
     "data": {
      "image/png": "[encoded data removed]",
      "text/plain": [
       "<Figure size 792x648 with 2 Axes>"
      ]
     },
     "metadata": {
      "needs_background": "light"
     },
     "output_type": "display_data"
    }
   ],
   "source": [
    "columns = ['duration','start_lat','start_lon','end_lat','end_lon','bike_id',\\\n",
    "    'plan_duration','trip_route_category','passholder_type','start_station','end_station']\n",
    "    \n",
    "corr = data_preprocessed[columns].corr()\n",
    "mask = np.zeros_like(corr, dtype=bool)\n",
    "mask[np.triu_indices_from(mask)] = True\n",
    "\n",
    "fig, axes = plt.subplots(figsize=(11,9))\n",
    "cmap = sb.diverging_palette(220, 10, as_cmap=True)\n",
    "\n",
    "sb.heatmap(corr, mask=mask, cmap=cmap, vmax=.3, center=0,\n",
    "            square=True, linewidths=.5, cbar_kws={\"shrink\": .5},)"
   ]
  },
  {
   "attachments": {},
   "cell_type": "markdown",
   "metadata": {},
   "source": [
    "Índice de correlación de la variable passholder_type con las demás variables."
   ]
  },
  {
   "cell_type": "code",
   "execution_count": 103,
   "metadata": {},
   "outputs": [
    {
     "name": "stderr",
     "output_type": "stream",
     "text": [
      "<ipython-input-103-1d174fa16ddb>:1: FutureWarning: The default value of numeric_only in DataFrame.corr is deprecated. In a future version, it will default to False. Select only valid columns or specify the value of numeric_only to silence this warning.\n",
      "  data_preprocessed.corr()['passholder_type']\n"
     ]
    },
    {
     "data": {
      "text/plain": [
       "trip_id               -0.045246\n",
       "duration               0.183585\n",
       "start_lat             -0.224183\n",
       "start_lon             -0.289629\n",
       "end_lat               -0.216958\n",
       "end_lon               -0.291345\n",
       "bike_id               -0.112772\n",
       "plan_duration         -0.503975\n",
       "trip_route_category    0.273482\n",
       "passholder_type        1.000000\n",
       "start_station          0.213792\n",
       "end_station            0.214623\n",
       "schedule              -0.042434\n",
       "year                  -0.064250\n",
       "Name: passholder_type, dtype: float64"
      ]
     },
     "execution_count": 103,
     "metadata": {},
     "output_type": "execute_result"
    }
   ],
   "source": [
    "data_preprocessed.corr()['passholder_type']"
   ]
  },
  {
   "cell_type": "code",
   "execution_count": 104,
   "metadata": {},
   "outputs": [
    {
     "data": {
      "text/plain": [
       "0         5\n",
       "1         5\n",
       "2         2\n",
       "3         3\n",
       "4         2\n",
       "         ..\n",
       "675439    2\n",
       "675440    2\n",
       "675441    1\n",
       "675442    5\n",
       "675443    5\n",
       "Name: passholder_type, Length: 675444, dtype: int64"
      ]
     },
     "execution_count": 104,
     "metadata": {},
     "output_type": "execute_result"
    }
   ],
   "source": [
    "predictors_columns = ['trip_route_category','duration','start_station','end_station','year']\n",
    "\n",
    "Y = data_preprocessed.pop('passholder_type')\n",
    "Y"
   ]
  },
  {
   "attachments": {},
   "cell_type": "markdown",
   "metadata": {},
   "source": [
    "Dividir el conjunto de datos en entrenamiento y prueba."
   ]
  },
  {
   "cell_type": "code",
   "execution_count": 105,
   "metadata": {},
   "outputs": [],
   "source": [
    "x_train, x_test, y_train, y_test = train_test_split(data_preprocessed[predictors_columns], Y, random_state=1335, train_size=0.8)"
   ]
  },
  {
   "cell_type": "code",
   "execution_count": 106,
   "metadata": {},
   "outputs": [
    {
     "name": "stdout",
     "output_type": "stream",
     "text": [
      "540355 540355\n",
      "135089 135089\n"
     ]
    }
   ],
   "source": [
    "print(len(x_train), len(y_train))\n",
    "print(len(x_test), len(y_test))"
   ]
  },
  {
   "cell_type": "code",
   "execution_count": 107,
   "metadata": {},
   "outputs": [
    {
     "name": "stdout",
     "output_type": "stream",
     "text": [
      "Accuracy is:  0.6950232809481157\n",
      "\n",
      "Accuracy: 0.6950232809481157\n",
      "\n",
      "Precision:\n",
      " [[0.51800615]\n",
      " [0.30885312]\n",
      " [0.75667739]\n",
      " [0.30719228]\n",
      " [0.        ]\n",
      " [0.63725968]]\n",
      "\n",
      "Recall:\n",
      " [[0.35796662]\n",
      " [0.13249892]\n",
      " [0.83866551]\n",
      " [0.18178434]\n",
      " [0.        ]\n",
      " [0.61007495]]\n",
      "              precision    recall  f1-score   support\n",
      "\n",
      "           0      0.518     0.358     0.423      6590\n",
      "           1      0.309     0.132     0.185      2317\n",
      "           2      0.757     0.839     0.796     77423\n",
      "           3      0.307     0.182     0.228      8059\n",
      "           4      0.000     0.000     0.000         5\n",
      "           5      0.637     0.610     0.623     40695\n",
      "\n",
      "    accuracy                          0.695    135089\n",
      "   macro avg      0.421     0.353     0.376    135089\n",
      "weighted avg      0.675     0.695     0.681    135089\n",
      "\n",
      "              precision    recall  f1-score   support\n",
      "\n",
      "           0       0.52      0.36      0.42      6590\n",
      "           1       0.31      0.13      0.19      2317\n",
      "           2       0.76      0.84      0.80     77423\n",
      "           3       0.31      0.18      0.23      8059\n",
      "           4       0.00      0.00      0.00         5\n",
      "           5       0.64      0.61      0.62     40695\n",
      "\n",
      "    accuracy                           0.70    135089\n",
      "   macro avg       0.42      0.35      0.38    135089\n",
      "weighted avg       0.67      0.70      0.68    135089\n",
      "\n"
     ]
    },
    {
     "data": {
      "image/png": "[encoded data removed]",
      "text/plain": [
       "<Figure size 504x360 with 2 Axes>"
      ]
     },
     "metadata": {
      "needs_background": "light"
     },
     "output_type": "display_data"
    }
   ],
   "source": [
    "classifier = RandomForestClassifier(max_depth=100, n_estimators=50)\n",
    "classifier.fit(x_train, y_train)\n",
    "\n",
    "y_predict = classifier.predict(x_test)\n",
    "\n",
    "accuracy = metrics.accuracy_score(y_test, y_predict)\n",
    "print(\"Accuracy is: \", accuracy)\n",
    "\n",
    "\n",
    "confusion_matrix = metrics.confusion_matrix(y_test, y_predict)\n",
    "# print(\"The confunsion matrix:\\n\",confusion_matrix)\n",
    "print(\"\\nAccuracy:\",metrics.accuracy_score(y_test, y_predict))\n",
    "print(\"\\nPrecision:\\n\", metrics.precision_score(y_test, y_predict, average=None).reshape(-1,1))\n",
    "print(\"\\nRecall:\\n\", metrics.recall_score(y_test, y_predict, average=None).reshape(-1,1))\n",
    "print(metrics.classification_report(y_test, y_predict, digits=3))\n",
    "\n",
    "col = ['Annual Pass','Flex Pass','Monthly Pass','One Day Pass','Testing Pass','Walk-up Pass']\n",
    "df_cm = pd.DataFrame(confusion_matrix, columns=col)\n",
    "plt.figure(figsize=(7,5))\n",
    "ax = sb.heatmap(df_cm, annot=True, fmt=\"d\", cmap='Blues', xticklabels=True, yticklabels=col)\n",
    "\n",
    "print(metrics.classification_report(y_test, y_predict))"
   ]
  },
  {
   "attachments": {},
   "cell_type": "markdown",
   "metadata": {},
   "source": [
    "### 10-Fold Cross-Validation with "
   ]
  },
  {
   "cell_type": "code",
   "execution_count": 200,
   "metadata": {},
   "outputs": [
    {
     "name": "stdout",
     "output_type": "stream",
     "text": [
      "Accuracy:  93.21\n",
      "Precision:  87.12\n",
      "Recall:  82.96\n",
      "F1-score:  84.32\n",
      "0.09\n"
     ]
    }
   ],
   "source": [
    "kfold = StratifiedKFold(n_splits=10, shuffle=True)\n",
    "scoring = ['precision_macro', 'recall_macro', 'accuracy', 'f1_macro']\n",
    "rf = RandomForestClassifier(max_depth=100, n_estimators=50)\n",
    "results = cross_validate(rf, x_train, y_train, cv=kfold, scoring=scoring)\n",
    "\n",
    "print(\"Accuracy: \", round(results['test_accuracy'].mean()*100,2))\n",
    "print(\"Precision: \", round(results['test_precision_macro'].mean()*100,2))\n",
    "print(\"Recall: \", round(results['test_recall_macro'].mean()*100,2))\n",
    "print(\"F1-score: \", round(results['test_f1_macro'].mean()*100,2))\n",
    "print(round(results['test_accuracy'].std()*100,2))"
   ]
  },
  {
   "attachments": {},
   "cell_type": "markdown",
   "metadata": {},
   "source": [
    "0------ Annual pass\n",
    "\n",
    "1------ flex pass\n",
    "\n",
    "2------ Monthly\n",
    "\n",
    "3------ One day\n",
    "\n",
    "4------ Testing\n",
    "\n",
    "5------ Walk-up pass"
   ]
  },
  {
   "cell_type": "markdown",
   "metadata": {},
   "source": []
  },
  {
   "attachments": {},
   "cell_type": "markdown",
   "metadata": {},
   "source": [
    "# Utilizar el modelo entrenado para clasificar el conjunto de datos de prueba."
   ]
  },
  {
   "cell_type": "code",
   "execution_count": 119,
   "metadata": {},
   "outputs": [
    {
     "data": {
      "text/html": [
       "<div>\n",
       "<style scoped>\n",
       "    .dataframe tbody tr th:only-of-type {\n",
       "        vertical-align: middle;\n",
       "    }\n",
       "\n",
       "    .dataframe tbody tr th {\n",
       "        vertical-align: top;\n",
       "    }\n",
       "\n",
       "    .dataframe thead th {\n",
       "        text-align: right;\n",
       "    }\n",
       "</style>\n",
       "<table border=\"1\" class=\"dataframe\">\n",
       "  <thead>\n",
       "    <tr style=\"text-align: right;\">\n",
       "      <th></th>\n",
       "      <th>trip_id</th>\n",
       "      <th>duration</th>\n",
       "      <th>start_time</th>\n",
       "      <th>end_time</th>\n",
       "      <th>start_lat</th>\n",
       "      <th>start_lon</th>\n",
       "      <th>end_lat</th>\n",
       "      <th>end_lon</th>\n",
       "      <th>bike_id</th>\n",
       "      <th>trip_route_category</th>\n",
       "      <th>start_station</th>\n",
       "      <th>end_station</th>\n",
       "    </tr>\n",
       "  </thead>\n",
       "  <tbody>\n",
       "    <tr>\n",
       "      <th>0</th>\n",
       "      <td>17059130</td>\n",
       "      <td>12</td>\n",
       "      <td>1/1/2017 0:24</td>\n",
       "      <td>1/1/2017 0:36</td>\n",
       "      <td>34.058319</td>\n",
       "      <td>-118.246094</td>\n",
       "      <td>34.058319</td>\n",
       "      <td>-118.246094</td>\n",
       "      <td>6351</td>\n",
       "      <td>Round Trip</td>\n",
       "      <td>3028</td>\n",
       "      <td>3028</td>\n",
       "    </tr>\n",
       "    <tr>\n",
       "      <th>1</th>\n",
       "      <td>17059129</td>\n",
       "      <td>17</td>\n",
       "      <td>1/1/2017 0:28</td>\n",
       "      <td>1/1/2017 0:45</td>\n",
       "      <td>34.049980</td>\n",
       "      <td>-118.247162</td>\n",
       "      <td>34.043732</td>\n",
       "      <td>-118.260139</td>\n",
       "      <td>5836</td>\n",
       "      <td>One Way</td>\n",
       "      <td>3027</td>\n",
       "      <td>3018</td>\n",
       "    </tr>\n",
       "    <tr>\n",
       "      <th>2</th>\n",
       "      <td>17059126</td>\n",
       "      <td>20</td>\n",
       "      <td>1/1/2017 0:39</td>\n",
       "      <td>1/1/2017 0:59</td>\n",
       "      <td>34.063389</td>\n",
       "      <td>-118.236160</td>\n",
       "      <td>34.044159</td>\n",
       "      <td>-118.251579</td>\n",
       "      <td>6529</td>\n",
       "      <td>One Way</td>\n",
       "      <td>3066</td>\n",
       "      <td>3055</td>\n",
       "    </tr>\n",
       "    <tr>\n",
       "      <th>3</th>\n",
       "      <td>17059125</td>\n",
       "      <td>12</td>\n",
       "      <td>1/1/2017 0:43</td>\n",
       "      <td>1/1/2017 0:55</td>\n",
       "      <td>34.048851</td>\n",
       "      <td>-118.246422</td>\n",
       "      <td>34.050140</td>\n",
       "      <td>-118.233238</td>\n",
       "      <td>6029</td>\n",
       "      <td>One Way</td>\n",
       "      <td>3029</td>\n",
       "      <td>3079</td>\n",
       "    </tr>\n",
       "    <tr>\n",
       "      <th>4</th>\n",
       "      <td>17061379</td>\n",
       "      <td>48</td>\n",
       "      <td>1/1/2017 0:56</td>\n",
       "      <td>1/1/2017 1:44</td>\n",
       "      <td>34.049198</td>\n",
       "      <td>-118.252831</td>\n",
       "      <td>34.049198</td>\n",
       "      <td>-118.252831</td>\n",
       "      <td>6680</td>\n",
       "      <td>Round Trip</td>\n",
       "      <td>3063</td>\n",
       "      <td>3063</td>\n",
       "    </tr>\n",
       "  </tbody>\n",
       "</table>\n",
       "</div>"
      ],
      "text/plain": [
       "    trip_id  duration     start_time       end_time  start_lat   start_lon  \\\n",
       "0  17059130        12  1/1/2017 0:24  1/1/2017 0:36  34.058319 -118.246094   \n",
       "1  17059129        17  1/1/2017 0:28  1/1/2017 0:45  34.049980 -118.247162   \n",
       "2  17059126        20  1/1/2017 0:39  1/1/2017 0:59  34.063389 -118.236160   \n",
       "3  17059125        12  1/1/2017 0:43  1/1/2017 0:55  34.048851 -118.246422   \n",
       "4  17061379        48  1/1/2017 0:56  1/1/2017 1:44  34.049198 -118.252831   \n",
       "\n",
       "     end_lat     end_lon bike_id trip_route_category  start_station  \\\n",
       "0  34.058319 -118.246094    6351          Round Trip           3028   \n",
       "1  34.043732 -118.260139    5836             One Way           3027   \n",
       "2  34.044159 -118.251579    6529             One Way           3066   \n",
       "3  34.050140 -118.233238    6029             One Way           3029   \n",
       "4  34.049198 -118.252831    6680          Round Trip           3063   \n",
       "\n",
       "   end_station  \n",
       "0         3028  \n",
       "1         3018  \n",
       "2         3055  \n",
       "3         3079  \n",
       "4         3063  "
      ]
     },
     "execution_count": 119,
     "metadata": {},
     "output_type": "execute_result"
    }
   ],
   "source": [
    "test_data = pd.read_csv(\"test_set.csv\", dtype={\n",
    "    'bike_id':'category',\n",
    "    'trip_route_category':'category'})\n",
    "test_data.head()"
   ]
  },
  {
   "cell_type": "code",
   "execution_count": 120,
   "metadata": {},
   "outputs": [],
   "source": [
    "add_timeformat(test_data)"
   ]
  },
  {
   "cell_type": "code",
   "execution_count": 121,
   "metadata": {},
   "outputs": [
    {
     "name": "stderr",
     "output_type": "stream",
     "text": [
      "<ipython-input-12-166b627e646b>:41: SettingWithCopyWarning: \n",
      "A value is trying to be set on a copy of a slice from a DataFrame\n",
      "\n",
      "See the caveats in the documentation: https://pandas.pydata.org/pandas-docs/stable/user_guide/indexing.html#returning-a-view-versus-a-copy\n",
      "  data['year'][i] = data['start_time'][i].year\n"
     ]
    },
    {
     "data": {
      "text/html": [
       "<div>\n",
       "<style scoped>\n",
       "    .dataframe tbody tr th:only-of-type {\n",
       "        vertical-align: middle;\n",
       "    }\n",
       "\n",
       "    .dataframe tbody tr th {\n",
       "        vertical-align: top;\n",
       "    }\n",
       "\n",
       "    .dataframe thead th {\n",
       "        text-align: right;\n",
       "    }\n",
       "</style>\n",
       "<table border=\"1\" class=\"dataframe\">\n",
       "  <thead>\n",
       "    <tr style=\"text-align: right;\">\n",
       "      <th></th>\n",
       "      <th>trip_id</th>\n",
       "      <th>duration</th>\n",
       "      <th>start_time</th>\n",
       "      <th>end_time</th>\n",
       "      <th>start_lat</th>\n",
       "      <th>start_lon</th>\n",
       "      <th>end_lat</th>\n",
       "      <th>end_lon</th>\n",
       "      <th>bike_id</th>\n",
       "      <th>trip_route_category</th>\n",
       "      <th>start_station</th>\n",
       "      <th>end_station</th>\n",
       "      <th>year</th>\n",
       "    </tr>\n",
       "  </thead>\n",
       "  <tbody>\n",
       "    <tr>\n",
       "      <th>0</th>\n",
       "      <td>17059130</td>\n",
       "      <td>12</td>\n",
       "      <td>2017-01-01 00:24:00</td>\n",
       "      <td>2017-01-01 00:36:00</td>\n",
       "      <td>34.058319</td>\n",
       "      <td>-118.246094</td>\n",
       "      <td>34.058319</td>\n",
       "      <td>-118.246094</td>\n",
       "      <td>6351</td>\n",
       "      <td>Round Trip</td>\n",
       "      <td>3028</td>\n",
       "      <td>3028</td>\n",
       "      <td>2017</td>\n",
       "    </tr>\n",
       "    <tr>\n",
       "      <th>1</th>\n",
       "      <td>17059129</td>\n",
       "      <td>17</td>\n",
       "      <td>2017-01-01 00:28:00</td>\n",
       "      <td>2017-01-01 00:45:00</td>\n",
       "      <td>34.049980</td>\n",
       "      <td>-118.247162</td>\n",
       "      <td>34.043732</td>\n",
       "      <td>-118.260139</td>\n",
       "      <td>5836</td>\n",
       "      <td>One Way</td>\n",
       "      <td>3027</td>\n",
       "      <td>3018</td>\n",
       "      <td>2017</td>\n",
       "    </tr>\n",
       "    <tr>\n",
       "      <th>2</th>\n",
       "      <td>17059126</td>\n",
       "      <td>20</td>\n",
       "      <td>2017-01-01 00:39:00</td>\n",
       "      <td>2017-01-01 00:59:00</td>\n",
       "      <td>34.063389</td>\n",
       "      <td>-118.236160</td>\n",
       "      <td>34.044159</td>\n",
       "      <td>-118.251579</td>\n",
       "      <td>6529</td>\n",
       "      <td>One Way</td>\n",
       "      <td>3066</td>\n",
       "      <td>3055</td>\n",
       "      <td>2017</td>\n",
       "    </tr>\n",
       "    <tr>\n",
       "      <th>3</th>\n",
       "      <td>17059125</td>\n",
       "      <td>12</td>\n",
       "      <td>2017-01-01 00:43:00</td>\n",
       "      <td>2017-01-01 00:55:00</td>\n",
       "      <td>34.048851</td>\n",
       "      <td>-118.246422</td>\n",
       "      <td>34.050140</td>\n",
       "      <td>-118.233238</td>\n",
       "      <td>6029</td>\n",
       "      <td>One Way</td>\n",
       "      <td>3029</td>\n",
       "      <td>3079</td>\n",
       "      <td>2017</td>\n",
       "    </tr>\n",
       "    <tr>\n",
       "      <th>4</th>\n",
       "      <td>17061379</td>\n",
       "      <td>48</td>\n",
       "      <td>2017-01-01 00:56:00</td>\n",
       "      <td>2017-01-01 01:44:00</td>\n",
       "      <td>34.049198</td>\n",
       "      <td>-118.252831</td>\n",
       "      <td>34.049198</td>\n",
       "      <td>-118.252831</td>\n",
       "      <td>6680</td>\n",
       "      <td>Round Trip</td>\n",
       "      <td>3063</td>\n",
       "      <td>3063</td>\n",
       "      <td>2017</td>\n",
       "    </tr>\n",
       "  </tbody>\n",
       "</table>\n",
       "</div>"
      ],
      "text/plain": [
       "    trip_id  duration          start_time            end_time  start_lat  \\\n",
       "0  17059130        12 2017-01-01 00:24:00 2017-01-01 00:36:00  34.058319   \n",
       "1  17059129        17 2017-01-01 00:28:00 2017-01-01 00:45:00  34.049980   \n",
       "2  17059126        20 2017-01-01 00:39:00 2017-01-01 00:59:00  34.063389   \n",
       "3  17059125        12 2017-01-01 00:43:00 2017-01-01 00:55:00  34.048851   \n",
       "4  17061379        48 2017-01-01 00:56:00 2017-01-01 01:44:00  34.049198   \n",
       "\n",
       "    start_lon    end_lat     end_lon bike_id trip_route_category  \\\n",
       "0 -118.246094  34.058319 -118.246094    6351          Round Trip   \n",
       "1 -118.247162  34.043732 -118.260139    5836             One Way   \n",
       "2 -118.236160  34.044159 -118.251579    6529             One Way   \n",
       "3 -118.246422  34.050140 -118.233238    6029             One Way   \n",
       "4 -118.252831  34.049198 -118.252831    6680          Round Trip   \n",
       "\n",
       "   start_station  end_station  year  \n",
       "0           3028         3028  2017  \n",
       "1           3027         3018  2017  \n",
       "2           3066         3055  2017  \n",
       "3           3029         3079  2017  \n",
       "4           3063         3063  2017  "
      ]
     },
     "execution_count": 121,
     "metadata": {},
     "output_type": "execute_result"
    }
   ],
   "source": [
    "add_year(test_data)\n",
    "test_data.head()"
   ]
  },
  {
   "cell_type": "code",
   "execution_count": 122,
   "metadata": {},
   "outputs": [],
   "source": [
    "to_be_encoded = test_data.loc[:,['trip_route_category']]\n",
    "\n",
    "lab_enc = preprocessing.LabelEncoder()\n",
    "encoding_tripRoute = lab_enc.fit_transform(to_be_encoded['trip_route_category'])\n",
    "test_data['trip_route_category'] = encoding_tripRoute"
   ]
  },
  {
   "cell_type": "code",
   "execution_count": 123,
   "metadata": {},
   "outputs": [
    {
     "data": {
      "text/html": [
       "<div>\n",
       "<style scoped>\n",
       "    .dataframe tbody tr th:only-of-type {\n",
       "        vertical-align: middle;\n",
       "    }\n",
       "\n",
       "    .dataframe tbody tr th {\n",
       "        vertical-align: top;\n",
       "    }\n",
       "\n",
       "    .dataframe thead th {\n",
       "        text-align: right;\n",
       "    }\n",
       "</style>\n",
       "<table border=\"1\" class=\"dataframe\">\n",
       "  <thead>\n",
       "    <tr style=\"text-align: right;\">\n",
       "      <th></th>\n",
       "      <th>trip_route_category</th>\n",
       "      <th>duration</th>\n",
       "      <th>start_station</th>\n",
       "      <th>end_station</th>\n",
       "      <th>year</th>\n",
       "    </tr>\n",
       "  </thead>\n",
       "  <tbody>\n",
       "    <tr>\n",
       "      <th>0</th>\n",
       "      <td>1</td>\n",
       "      <td>12</td>\n",
       "      <td>3028</td>\n",
       "      <td>3028</td>\n",
       "      <td>2017</td>\n",
       "    </tr>\n",
       "    <tr>\n",
       "      <th>1</th>\n",
       "      <td>0</td>\n",
       "      <td>17</td>\n",
       "      <td>3027</td>\n",
       "      <td>3018</td>\n",
       "      <td>2017</td>\n",
       "    </tr>\n",
       "    <tr>\n",
       "      <th>2</th>\n",
       "      <td>0</td>\n",
       "      <td>20</td>\n",
       "      <td>3066</td>\n",
       "      <td>3055</td>\n",
       "      <td>2017</td>\n",
       "    </tr>\n",
       "    <tr>\n",
       "      <th>3</th>\n",
       "      <td>0</td>\n",
       "      <td>12</td>\n",
       "      <td>3029</td>\n",
       "      <td>3079</td>\n",
       "      <td>2017</td>\n",
       "    </tr>\n",
       "    <tr>\n",
       "      <th>4</th>\n",
       "      <td>1</td>\n",
       "      <td>48</td>\n",
       "      <td>3063</td>\n",
       "      <td>3063</td>\n",
       "      <td>2017</td>\n",
       "    </tr>\n",
       "  </tbody>\n",
       "</table>\n",
       "</div>"
      ],
      "text/plain": [
       "   trip_route_category  duration  start_station  end_station  year\n",
       "0                    1        12           3028         3028  2017\n",
       "1                    0        17           3027         3018  2017\n",
       "2                    0        20           3066         3055  2017\n",
       "3                    0        12           3029         3079  2017\n",
       "4                    1        48           3063         3063  2017"
      ]
     },
     "execution_count": 123,
     "metadata": {},
     "output_type": "execute_result"
    }
   ],
   "source": [
    "test_data_2 = test_data[predictors_columns]\n",
    "test_data_2.head()"
   ]
  },
  {
   "cell_type": "code",
   "execution_count": 124,
   "metadata": {},
   "outputs": [],
   "source": [
    "y_test = classifier.predict(test_data_2)"
   ]
  },
  {
   "cell_type": "code",
   "execution_count": 125,
   "metadata": {},
   "outputs": [
    {
     "data": {
      "text/plain": [
       "array([5, 5, 2, ..., 5, 5, 5])"
      ]
     },
     "execution_count": 125,
     "metadata": {},
     "output_type": "execute_result"
    }
   ],
   "source": [
    "y_test"
   ]
  },
  {
   "cell_type": "code",
   "execution_count": 126,
   "metadata": {},
   "outputs": [
    {
     "data": {
      "text/html": [
       "<div>\n",
       "<style scoped>\n",
       "    .dataframe tbody tr th:only-of-type {\n",
       "        vertical-align: middle;\n",
       "    }\n",
       "\n",
       "    .dataframe tbody tr th {\n",
       "        vertical-align: top;\n",
       "    }\n",
       "\n",
       "    .dataframe thead th {\n",
       "        text-align: right;\n",
       "    }\n",
       "</style>\n",
       "<table border=\"1\" class=\"dataframe\">\n",
       "  <thead>\n",
       "    <tr style=\"text-align: right;\">\n",
       "      <th></th>\n",
       "      <th>passholder_type</th>\n",
       "    </tr>\n",
       "  </thead>\n",
       "  <tbody>\n",
       "    <tr>\n",
       "      <th>0</th>\n",
       "      <td>5</td>\n",
       "    </tr>\n",
       "    <tr>\n",
       "      <th>1</th>\n",
       "      <td>5</td>\n",
       "    </tr>\n",
       "    <tr>\n",
       "      <th>2</th>\n",
       "      <td>2</td>\n",
       "    </tr>\n",
       "    <tr>\n",
       "      <th>3</th>\n",
       "      <td>5</td>\n",
       "    </tr>\n",
       "    <tr>\n",
       "      <th>4</th>\n",
       "      <td>5</td>\n",
       "    </tr>\n",
       "  </tbody>\n",
       "</table>\n",
       "</div>"
      ],
      "text/plain": [
       "   passholder_type\n",
       "0                5\n",
       "1                5\n",
       "2                2\n",
       "3                5\n",
       "4                5"
      ]
     },
     "execution_count": 126,
     "metadata": {},
     "output_type": "execute_result"
    }
   ],
   "source": [
    "pd_y = pd.DataFrame(y_test, columns=['passholder_type'])\n",
    "pd_y.head()"
   ]
  },
  {
   "cell_type": "code",
   "execution_count": 127,
   "metadata": {},
   "outputs": [],
   "source": [
    "pd_y['passholder_type'] = pd_y['passholder_type'].map({\n",
    "    5: 'Walk-up',\n",
    "    4: 'Testing',\n",
    "    3: 'One Day Pass',\n",
    "    2: 'Monthly Pass',\n",
    "    1: 'Flex Pass',\n",
    "    0: 'Annual Pass'\n",
    "})\n",
    "\n"
   ]
  },
  {
   "cell_type": "code",
   "execution_count": 132,
   "metadata": {},
   "outputs": [],
   "source": [
    "new_data = pd.concat([test_data,pd_y],axis=1)"
   ]
  },
  {
   "cell_type": "code",
   "execution_count": 133,
   "metadata": {},
   "outputs": [
    {
     "data": {
      "text/html": [
       "<div>\n",
       "<style scoped>\n",
       "    .dataframe tbody tr th:only-of-type {\n",
       "        vertical-align: middle;\n",
       "    }\n",
       "\n",
       "    .dataframe tbody tr th {\n",
       "        vertical-align: top;\n",
       "    }\n",
       "\n",
       "    .dataframe thead th {\n",
       "        text-align: right;\n",
       "    }\n",
       "</style>\n",
       "<table border=\"1\" class=\"dataframe\">\n",
       "  <thead>\n",
       "    <tr style=\"text-align: right;\">\n",
       "      <th></th>\n",
       "      <th>trip_id</th>\n",
       "      <th>duration</th>\n",
       "      <th>start_time</th>\n",
       "      <th>end_time</th>\n",
       "      <th>start_lat</th>\n",
       "      <th>start_lon</th>\n",
       "      <th>end_lat</th>\n",
       "      <th>end_lon</th>\n",
       "      <th>bike_id</th>\n",
       "      <th>trip_route_category</th>\n",
       "      <th>start_station</th>\n",
       "      <th>end_station</th>\n",
       "      <th>year</th>\n",
       "      <th>passholder_type</th>\n",
       "    </tr>\n",
       "  </thead>\n",
       "  <tbody>\n",
       "    <tr>\n",
       "      <th>0</th>\n",
       "      <td>17059130</td>\n",
       "      <td>12</td>\n",
       "      <td>2017-01-01 00:24:00</td>\n",
       "      <td>2017-01-01 00:36:00</td>\n",
       "      <td>34.058319</td>\n",
       "      <td>-118.246094</td>\n",
       "      <td>34.058319</td>\n",
       "      <td>-118.246094</td>\n",
       "      <td>6351</td>\n",
       "      <td>1</td>\n",
       "      <td>3028</td>\n",
       "      <td>3028</td>\n",
       "      <td>2017</td>\n",
       "      <td>Walk-up</td>\n",
       "    </tr>\n",
       "    <tr>\n",
       "      <th>1</th>\n",
       "      <td>17059129</td>\n",
       "      <td>17</td>\n",
       "      <td>2017-01-01 00:28:00</td>\n",
       "      <td>2017-01-01 00:45:00</td>\n",
       "      <td>34.049980</td>\n",
       "      <td>-118.247162</td>\n",
       "      <td>34.043732</td>\n",
       "      <td>-118.260139</td>\n",
       "      <td>5836</td>\n",
       "      <td>0</td>\n",
       "      <td>3027</td>\n",
       "      <td>3018</td>\n",
       "      <td>2017</td>\n",
       "      <td>Walk-up</td>\n",
       "    </tr>\n",
       "    <tr>\n",
       "      <th>2</th>\n",
       "      <td>17059126</td>\n",
       "      <td>20</td>\n",
       "      <td>2017-01-01 00:39:00</td>\n",
       "      <td>2017-01-01 00:59:00</td>\n",
       "      <td>34.063389</td>\n",
       "      <td>-118.236160</td>\n",
       "      <td>34.044159</td>\n",
       "      <td>-118.251579</td>\n",
       "      <td>6529</td>\n",
       "      <td>0</td>\n",
       "      <td>3066</td>\n",
       "      <td>3055</td>\n",
       "      <td>2017</td>\n",
       "      <td>Monthly Pass</td>\n",
       "    </tr>\n",
       "    <tr>\n",
       "      <th>3</th>\n",
       "      <td>17059125</td>\n",
       "      <td>12</td>\n",
       "      <td>2017-01-01 00:43:00</td>\n",
       "      <td>2017-01-01 00:55:00</td>\n",
       "      <td>34.048851</td>\n",
       "      <td>-118.246422</td>\n",
       "      <td>34.050140</td>\n",
       "      <td>-118.233238</td>\n",
       "      <td>6029</td>\n",
       "      <td>0</td>\n",
       "      <td>3029</td>\n",
       "      <td>3079</td>\n",
       "      <td>2017</td>\n",
       "      <td>Walk-up</td>\n",
       "    </tr>\n",
       "    <tr>\n",
       "      <th>4</th>\n",
       "      <td>17061379</td>\n",
       "      <td>48</td>\n",
       "      <td>2017-01-01 00:56:00</td>\n",
       "      <td>2017-01-01 01:44:00</td>\n",
       "      <td>34.049198</td>\n",
       "      <td>-118.252831</td>\n",
       "      <td>34.049198</td>\n",
       "      <td>-118.252831</td>\n",
       "      <td>6680</td>\n",
       "      <td>1</td>\n",
       "      <td>3063</td>\n",
       "      <td>3063</td>\n",
       "      <td>2017</td>\n",
       "      <td>Walk-up</td>\n",
       "    </tr>\n",
       "    <tr>\n",
       "      <th>...</th>\n",
       "      <td>...</td>\n",
       "      <td>...</td>\n",
       "      <td>...</td>\n",
       "      <td>...</td>\n",
       "      <td>...</td>\n",
       "      <td>...</td>\n",
       "      <td>...</td>\n",
       "      <td>...</td>\n",
       "      <td>...</td>\n",
       "      <td>...</td>\n",
       "      <td>...</td>\n",
       "      <td>...</td>\n",
       "      <td>...</td>\n",
       "      <td>...</td>\n",
       "    </tr>\n",
       "    <tr>\n",
       "      <th>569881</th>\n",
       "      <td>179408277</td>\n",
       "      <td>19</td>\n",
       "      <td>2021-12-31 23:29:00</td>\n",
       "      <td>2021-12-31 23:48:00</td>\n",
       "      <td>34.040989</td>\n",
       "      <td>-118.255798</td>\n",
       "      <td>34.041130</td>\n",
       "      <td>-118.267982</td>\n",
       "      <td>14027</td>\n",
       "      <td>0</td>\n",
       "      <td>3033</td>\n",
       "      <td>3011</td>\n",
       "      <td>2021</td>\n",
       "      <td>Monthly Pass</td>\n",
       "    </tr>\n",
       "    <tr>\n",
       "      <th>569882</th>\n",
       "      <td>179408276</td>\n",
       "      <td>8</td>\n",
       "      <td>2021-12-31 23:40:00</td>\n",
       "      <td>2021-12-31 23:48:00</td>\n",
       "      <td>34.044701</td>\n",
       "      <td>-118.252441</td>\n",
       "      <td>34.051941</td>\n",
       "      <td>-118.243530</td>\n",
       "      <td>20006</td>\n",
       "      <td>0</td>\n",
       "      <td>3031</td>\n",
       "      <td>3030</td>\n",
       "      <td>2021</td>\n",
       "      <td>Monthly Pass</td>\n",
       "    </tr>\n",
       "    <tr>\n",
       "      <th>569883</th>\n",
       "      <td>179409877</td>\n",
       "      <td>43</td>\n",
       "      <td>2021-12-31 23:47:00</td>\n",
       "      <td>2022-01-01 00:30:00</td>\n",
       "      <td>34.044701</td>\n",
       "      <td>-118.252441</td>\n",
       "      <td>34.044701</td>\n",
       "      <td>-118.252441</td>\n",
       "      <td>16214</td>\n",
       "      <td>1</td>\n",
       "      <td>3031</td>\n",
       "      <td>3031</td>\n",
       "      <td>2021</td>\n",
       "      <td>Walk-up</td>\n",
       "    </tr>\n",
       "    <tr>\n",
       "      <th>569884</th>\n",
       "      <td>179409876</td>\n",
       "      <td>42</td>\n",
       "      <td>2021-12-31 23:48:00</td>\n",
       "      <td>2022-01-01 00:30:00</td>\n",
       "      <td>34.044701</td>\n",
       "      <td>-118.252441</td>\n",
       "      <td>34.044701</td>\n",
       "      <td>-118.252441</td>\n",
       "      <td>13336</td>\n",
       "      <td>1</td>\n",
       "      <td>3031</td>\n",
       "      <td>3031</td>\n",
       "      <td>2021</td>\n",
       "      <td>Walk-up</td>\n",
       "    </tr>\n",
       "    <tr>\n",
       "      <th>569885</th>\n",
       "      <td>179492474</td>\n",
       "      <td>1440</td>\n",
       "      <td>2021-12-31 23:48:00</td>\n",
       "      <td>2022-01-02 12:56:00</td>\n",
       "      <td>34.051941</td>\n",
       "      <td>-118.243530</td>\n",
       "      <td>34.047440</td>\n",
       "      <td>-118.247940</td>\n",
       "      <td>6117</td>\n",
       "      <td>0</td>\n",
       "      <td>3030</td>\n",
       "      <td>4491</td>\n",
       "      <td>2021</td>\n",
       "      <td>Walk-up</td>\n",
       "    </tr>\n",
       "  </tbody>\n",
       "</table>\n",
       "<p>569886 rows × 14 columns</p>\n",
       "</div>"
      ],
      "text/plain": [
       "          trip_id  duration          start_time            end_time  \\\n",
       "0        17059130        12 2017-01-01 00:24:00 2017-01-01 00:36:00   \n",
       "1        17059129        17 2017-01-01 00:28:00 2017-01-01 00:45:00   \n",
       "2        17059126        20 2017-01-01 00:39:00 2017-01-01 00:59:00   \n",
       "3        17059125        12 2017-01-01 00:43:00 2017-01-01 00:55:00   \n",
       "4        17061379        48 2017-01-01 00:56:00 2017-01-01 01:44:00   \n",
       "...           ...       ...                 ...                 ...   \n",
       "569881  179408277        19 2021-12-31 23:29:00 2021-12-31 23:48:00   \n",
       "569882  179408276         8 2021-12-31 23:40:00 2021-12-31 23:48:00   \n",
       "569883  179409877        43 2021-12-31 23:47:00 2022-01-01 00:30:00   \n",
       "569884  179409876        42 2021-12-31 23:48:00 2022-01-01 00:30:00   \n",
       "569885  179492474      1440 2021-12-31 23:48:00 2022-01-02 12:56:00   \n",
       "\n",
       "        start_lat   start_lon    end_lat     end_lon bike_id  \\\n",
       "0       34.058319 -118.246094  34.058319 -118.246094    6351   \n",
       "1       34.049980 -118.247162  34.043732 -118.260139    5836   \n",
       "2       34.063389 -118.236160  34.044159 -118.251579    6529   \n",
       "3       34.048851 -118.246422  34.050140 -118.233238    6029   \n",
       "4       34.049198 -118.252831  34.049198 -118.252831    6680   \n",
       "...           ...         ...        ...         ...     ...   \n",
       "569881  34.040989 -118.255798  34.041130 -118.267982   14027   \n",
       "569882  34.044701 -118.252441  34.051941 -118.243530   20006   \n",
       "569883  34.044701 -118.252441  34.044701 -118.252441   16214   \n",
       "569884  34.044701 -118.252441  34.044701 -118.252441   13336   \n",
       "569885  34.051941 -118.243530  34.047440 -118.247940    6117   \n",
       "\n",
       "        trip_route_category  start_station  end_station  year passholder_type  \n",
       "0                         1           3028         3028  2017         Walk-up  \n",
       "1                         0           3027         3018  2017         Walk-up  \n",
       "2                         0           3066         3055  2017    Monthly Pass  \n",
       "3                         0           3029         3079  2017         Walk-up  \n",
       "4                         1           3063         3063  2017         Walk-up  \n",
       "...                     ...            ...          ...   ...             ...  \n",
       "569881                    0           3033         3011  2021    Monthly Pass  \n",
       "569882                    0           3031         3030  2021    Monthly Pass  \n",
       "569883                    1           3031         3031  2021         Walk-up  \n",
       "569884                    1           3031         3031  2021         Walk-up  \n",
       "569885                    0           3030         4491  2021         Walk-up  \n",
       "\n",
       "[569886 rows x 14 columns]"
      ]
     },
     "execution_count": 133,
     "metadata": {},
     "output_type": "execute_result"
    }
   ],
   "source": [
    "new_data"
   ]
  },
  {
   "cell_type": "code",
   "execution_count": 135,
   "metadata": {},
   "outputs": [],
   "source": [
    "columnas = ['trip_id','passholder_type']\n",
    "new_data[columnas].to_csv('sample_submission2.csv', index=False)"
   ]
  },
  {
   "cell_type": "code",
   "execution_count": 137,
   "metadata": {},
   "outputs": [
    {
     "data": {
      "text/plain": [
       "passholder_type\n",
       "Annual Pass      19121\n",
       "Flex Pass         4162\n",
       "Monthly Pass    361339\n",
       "One Day Pass     20154\n",
       "Testing             18\n",
       "Walk-up         165092\n",
       "Name: trip_id, dtype: int64"
      ]
     },
     "execution_count": 137,
     "metadata": {},
     "output_type": "execute_result"
    }
   ],
   "source": [
    "new_data.passholder_type.unique()\n",
    "new_data.groupby('passholder_type')['trip_id'].count()"
   ]
  },
  {
   "cell_type": "code",
   "execution_count": null,
   "metadata": {},
   "outputs": [],
   "source": []
  }
 ],
 "metadata": {
  "kernelspec": {
   "display_name": "base",
   "language": "python",
   "name": "python3"
  },
  "language_info": {
   "codemirror_mode": {
    "name": "ipython",
    "version": 3
   },
   "file_extension": ".py",
   "mimetype": "text/x-python",
   "name": "python",
   "nbconvert_exporter": "python",
   "pygments_lexer": "ipython3",
   "version": "3.8.5"
  },
  "orig_nbformat": 4,
  "vscode": {
   "interpreter": {
    "hash": "2aab41577e15fcd208590c9e105f66768db6dfe48fe23f2d8c1ec8a900f63116"
   }
  }
 },
 "nbformat": 4,
 "nbformat_minor": 2
}
